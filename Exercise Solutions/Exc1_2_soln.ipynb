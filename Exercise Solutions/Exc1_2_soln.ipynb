{
  "nbformat": 4,
  "nbformat_minor": 0,
  "metadata": {
    "colab": {
      "name": "Exc1_2_soln.ipynb",
      "provenance": []
    },
    "kernelspec": {
      "name": "python3",
      "display_name": "Python 3"
    },
    "language_info": {
      "name": "python"
    }
  },
  "cells": [
    {
      "cell_type": "code",
      "execution_count": null,
      "metadata": {
        "id": "kvZiinAS-77c"
      },
      "outputs": [],
      "source": [
        "#Library imports\n",
        "import pandas as pd\n",
        "import numpy as np"
      ]
    },
    {
      "cell_type": "markdown",
      "source": [
        "## Exercise 1: Know your company Part 2\n",
        "We will continue working with the dataset you have created in Part 1. <br>\n",
        "First lets create the dataset again."
      ],
      "metadata": {
        "id": "VgahtRIeDJpg"
      }
    },
    {
      "cell_type": "code",
      "source": [
        "#Create the dataset in the same way as above\n",
        "#Your code here\n",
        "ceo_dict = {'Alphabet':'Sundar Pichai','Amazon':'Jeff Bezos','Adobe':'Shantanu Narayen','Alibaba':'Daniel Zhang',\n",
        "            'Flipkart':'Kalyan Krishnamurthy','IBM':'Arvind Krishna','Meta':'Mark Zuckerberg','Microsoft':'Satya Nadella',\n",
        "            'Oyo':'Ritesh Agarwal','Paytm':'Vijay Shekhar Sharma','TCS':'Rajesh Gopinath','Tesla':'Elon Musk','Twitter':'Parag Agrawal'}\n",
        "ceo_df = pd.Series(ceo_dict)\n",
        "country_dict = {'Alphabet':'US','Amazon':'US','Adobe':'US','Alibaba':'China',\n",
        "                'Flipkart':'India','IBM':'US','Meta':'US','Microsoft':'US',\n",
        "                'Oyo':'India','Paytm':'India','TCS':'India','Tesla':'US','Twitter':'US'}\n",
        "country_df = pd.Series(country_dict)\n",
        "company_df = pd.DataFrame({'CEO':ceo_df, 'Country':country_df})\n",
        "company_df"
      ],
      "metadata": {
        "id": "P4bslu20YNJ3",
        "colab": {
          "base_uri": "https://localhost:8080/",
          "height": 457
        },
        "outputId": "9b64e335-5a44-4f4d-ab5e-079c23314e54"
      },
      "execution_count": null,
      "outputs": [
        {
          "output_type": "execute_result",
          "data": {
            "text/html": [
              "\n",
              "  <div id=\"df-7e1cac5f-d9cf-4085-baea-bab10fe63bd4\">\n",
              "    <div class=\"colab-df-container\">\n",
              "      <div>\n",
              "<style scoped>\n",
              "    .dataframe tbody tr th:only-of-type {\n",
              "        vertical-align: middle;\n",
              "    }\n",
              "\n",
              "    .dataframe tbody tr th {\n",
              "        vertical-align: top;\n",
              "    }\n",
              "\n",
              "    .dataframe thead th {\n",
              "        text-align: right;\n",
              "    }\n",
              "</style>\n",
              "<table border=\"1\" class=\"dataframe\">\n",
              "  <thead>\n",
              "    <tr style=\"text-align: right;\">\n",
              "      <th></th>\n",
              "      <th>CEO</th>\n",
              "      <th>Country</th>\n",
              "    </tr>\n",
              "  </thead>\n",
              "  <tbody>\n",
              "    <tr>\n",
              "      <th>Alphabet</th>\n",
              "      <td>Sundar Pichai</td>\n",
              "      <td>US</td>\n",
              "    </tr>\n",
              "    <tr>\n",
              "      <th>Amazon</th>\n",
              "      <td>Jeff Bezos</td>\n",
              "      <td>US</td>\n",
              "    </tr>\n",
              "    <tr>\n",
              "      <th>Adobe</th>\n",
              "      <td>Shantanu Narayen</td>\n",
              "      <td>US</td>\n",
              "    </tr>\n",
              "    <tr>\n",
              "      <th>Alibaba</th>\n",
              "      <td>Daniel Zhang</td>\n",
              "      <td>China</td>\n",
              "    </tr>\n",
              "    <tr>\n",
              "      <th>Flipkart</th>\n",
              "      <td>Kalyan Krishnamurthy</td>\n",
              "      <td>India</td>\n",
              "    </tr>\n",
              "    <tr>\n",
              "      <th>IBM</th>\n",
              "      <td>Arvind Krishna</td>\n",
              "      <td>US</td>\n",
              "    </tr>\n",
              "    <tr>\n",
              "      <th>Meta</th>\n",
              "      <td>Mark Zuckerberg</td>\n",
              "      <td>US</td>\n",
              "    </tr>\n",
              "    <tr>\n",
              "      <th>Microsoft</th>\n",
              "      <td>Satya Nadella</td>\n",
              "      <td>US</td>\n",
              "    </tr>\n",
              "    <tr>\n",
              "      <th>Oyo</th>\n",
              "      <td>Ritesh Agarwal</td>\n",
              "      <td>India</td>\n",
              "    </tr>\n",
              "    <tr>\n",
              "      <th>Paytm</th>\n",
              "      <td>Vijay Shekhar Sharma</td>\n",
              "      <td>India</td>\n",
              "    </tr>\n",
              "    <tr>\n",
              "      <th>TCS</th>\n",
              "      <td>Rajesh Gopinath</td>\n",
              "      <td>India</td>\n",
              "    </tr>\n",
              "    <tr>\n",
              "      <th>Tesla</th>\n",
              "      <td>Elon Musk</td>\n",
              "      <td>US</td>\n",
              "    </tr>\n",
              "    <tr>\n",
              "      <th>Twitter</th>\n",
              "      <td>Parag Agrawal</td>\n",
              "      <td>US</td>\n",
              "    </tr>\n",
              "  </tbody>\n",
              "</table>\n",
              "</div>\n",
              "      <button class=\"colab-df-convert\" onclick=\"convertToInteractive('df-7e1cac5f-d9cf-4085-baea-bab10fe63bd4')\"\n",
              "              title=\"Convert this dataframe to an interactive table.\"\n",
              "              style=\"display:none;\">\n",
              "        \n",
              "  <svg xmlns=\"http://www.w3.org/2000/svg\" height=\"24px\"viewBox=\"0 0 24 24\"\n",
              "       width=\"24px\">\n",
              "    <path d=\"M0 0h24v24H0V0z\" fill=\"none\"/>\n",
              "    <path d=\"M18.56 5.44l.94 2.06.94-2.06 2.06-.94-2.06-.94-.94-2.06-.94 2.06-2.06.94zm-11 1L8.5 8.5l.94-2.06 2.06-.94-2.06-.94L8.5 2.5l-.94 2.06-2.06.94zm10 10l.94 2.06.94-2.06 2.06-.94-2.06-.94-.94-2.06-.94 2.06-2.06.94z\"/><path d=\"M17.41 7.96l-1.37-1.37c-.4-.4-.92-.59-1.43-.59-.52 0-1.04.2-1.43.59L10.3 9.45l-7.72 7.72c-.78.78-.78 2.05 0 2.83L4 21.41c.39.39.9.59 1.41.59.51 0 1.02-.2 1.41-.59l7.78-7.78 2.81-2.81c.8-.78.8-2.07 0-2.86zM5.41 20L4 18.59l7.72-7.72 1.47 1.35L5.41 20z\"/>\n",
              "  </svg>\n",
              "      </button>\n",
              "      \n",
              "  <style>\n",
              "    .colab-df-container {\n",
              "      display:flex;\n",
              "      flex-wrap:wrap;\n",
              "      gap: 12px;\n",
              "    }\n",
              "\n",
              "    .colab-df-convert {\n",
              "      background-color: #E8F0FE;\n",
              "      border: none;\n",
              "      border-radius: 50%;\n",
              "      cursor: pointer;\n",
              "      display: none;\n",
              "      fill: #1967D2;\n",
              "      height: 32px;\n",
              "      padding: 0 0 0 0;\n",
              "      width: 32px;\n",
              "    }\n",
              "\n",
              "    .colab-df-convert:hover {\n",
              "      background-color: #E2EBFA;\n",
              "      box-shadow: 0px 1px 2px rgba(60, 64, 67, 0.3), 0px 1px 3px 1px rgba(60, 64, 67, 0.15);\n",
              "      fill: #174EA6;\n",
              "    }\n",
              "\n",
              "    [theme=dark] .colab-df-convert {\n",
              "      background-color: #3B4455;\n",
              "      fill: #D2E3FC;\n",
              "    }\n",
              "\n",
              "    [theme=dark] .colab-df-convert:hover {\n",
              "      background-color: #434B5C;\n",
              "      box-shadow: 0px 1px 3px 1px rgba(0, 0, 0, 0.15);\n",
              "      filter: drop-shadow(0px 1px 2px rgba(0, 0, 0, 0.3));\n",
              "      fill: #FFFFFF;\n",
              "    }\n",
              "  </style>\n",
              "\n",
              "      <script>\n",
              "        const buttonEl =\n",
              "          document.querySelector('#df-7e1cac5f-d9cf-4085-baea-bab10fe63bd4 button.colab-df-convert');\n",
              "        buttonEl.style.display =\n",
              "          google.colab.kernel.accessAllowed ? 'block' : 'none';\n",
              "\n",
              "        async function convertToInteractive(key) {\n",
              "          const element = document.querySelector('#df-7e1cac5f-d9cf-4085-baea-bab10fe63bd4');\n",
              "          const dataTable =\n",
              "            await google.colab.kernel.invokeFunction('convertToInteractive',\n",
              "                                                     [key], {});\n",
              "          if (!dataTable) return;\n",
              "\n",
              "          const docLinkHtml = 'Like what you see? Visit the ' +\n",
              "            '<a target=\"_blank\" href=https://colab.research.google.com/notebooks/data_table.ipynb>data table notebook</a>'\n",
              "            + ' to learn more about interactive tables.';\n",
              "          element.innerHTML = '';\n",
              "          dataTable['output_type'] = 'display_data';\n",
              "          await google.colab.output.renderOutput(dataTable, element);\n",
              "          const docLink = document.createElement('div');\n",
              "          docLink.innerHTML = docLinkHtml;\n",
              "          element.appendChild(docLink);\n",
              "        }\n",
              "      </script>\n",
              "    </div>\n",
              "  </div>\n",
              "  "
            ],
            "text/plain": [
              "                            CEO Country\n",
              "Alphabet          Sundar Pichai      US\n",
              "Amazon               Jeff Bezos      US\n",
              "Adobe          Shantanu Narayen      US\n",
              "Alibaba            Daniel Zhang   China\n",
              "Flipkart   Kalyan Krishnamurthy   India\n",
              "IBM              Arvind Krishna      US\n",
              "Meta            Mark Zuckerberg      US\n",
              "Microsoft         Satya Nadella      US\n",
              "Oyo              Ritesh Agarwal   India\n",
              "Paytm      Vijay Shekhar Sharma   India\n",
              "TCS             Rajesh Gopinath   India\n",
              "Tesla                 Elon Musk      US\n",
              "Twitter           Parag Agrawal      US"
            ]
          },
          "metadata": {},
          "execution_count": 3
        }
      ]
    },
    {
      "cell_type": "markdown",
      "source": [
        "Now try to access the 'Flipkart' row as shown in the lecture. "
      ],
      "metadata": {
        "id": "z4ePPtDrFn-_"
      }
    },
    {
      "cell_type": "code",
      "source": [
        "#Your code here\n",
        "company_df.loc['Flipkart']"
      ],
      "metadata": {
        "id": "k0-Kn6IGD7lR",
        "colab": {
          "base_uri": "https://localhost:8080/"
        },
        "outputId": "3b6d3640-cf4f-4197-ff2e-02aa43497651"
      },
      "execution_count": null,
      "outputs": [
        {
          "output_type": "execute_result",
          "data": {
            "text/plain": [
              "CEO        Kalyan Krishnamurthy\n",
              "Country                   India\n",
              "Name: Flipkart, dtype: object"
            ]
          },
          "metadata": {},
          "execution_count": 4
        }
      ]
    },
    {
      "cell_type": "markdown",
      "source": [
        "Next, try to access the 10th integral index in the DataFrame and also try to access all integral index greater than 10"
      ],
      "metadata": {
        "id": "LLz5unruF2e7"
      }
    },
    {
      "cell_type": "code",
      "source": [
        "#You need to access the 10th integral index from the DataFrame as well as\n",
        "#all the integral index greater than 10\n",
        "#Your code here\n",
        "print(company_df.iloc[10])\n",
        "print(company_df.iloc[10:])"
      ],
      "metadata": {
        "id": "YhOnw8ZVD7W1",
        "colab": {
          "base_uri": "https://localhost:8080/"
        },
        "outputId": "3e5298cb-32de-4618-a7bc-e50b69684e40"
      },
      "execution_count": null,
      "outputs": [
        {
          "output_type": "stream",
          "name": "stdout",
          "text": [
            "CEO        Rajesh Gopinath\n",
            "Country              India\n",
            "Name: TCS, dtype: object\n",
            "                     CEO Country\n",
            "TCS      Rajesh Gopinath   India\n",
            "Tesla          Elon Musk      US\n",
            "Twitter    Parag Agrawal      US\n"
          ]
        }
      ]
    },
    {
      "cell_type": "markdown",
      "source": [
        "Now, print out all the values stored in the DataFrame with the values attribute and then access the 10th index in the list of values."
      ],
      "metadata": {
        "id": "2ImFdj7aF-H1"
      }
    },
    {
      "cell_type": "code",
      "source": [
        "#Print out the values in the DataFrame with the values attribute\n",
        "#Your code here\n",
        "print(company_df.values)"
      ],
      "metadata": {
        "id": "g7YGCZMmFGta",
        "colab": {
          "base_uri": "https://localhost:8080/"
        },
        "outputId": "89ec8bd3-9c04-4ab8-b0d2-22c059cbecb0"
      },
      "execution_count": null,
      "outputs": [
        {
          "output_type": "stream",
          "name": "stdout",
          "text": [
            "[['Sundar Pichai' 'US']\n",
            " ['Jeff Bezos' 'US']\n",
            " ['Shantanu Narayen' 'US']\n",
            " ['Daniel Zhang' 'China']\n",
            " ['Kalyan Krishnamurthy' 'India']\n",
            " ['Arvind Krishna' 'US']\n",
            " ['Mark Zuckerberg' 'US']\n",
            " ['Satya Nadella' 'US']\n",
            " ['Ritesh Agarwal' 'India']\n",
            " ['Vijay Shekhar Sharma' 'India']\n",
            " ['Rajesh Gopinath' 'India']\n",
            " ['Elon Musk' 'US']\n",
            " ['Parag Agrawal' 'US']]\n"
          ]
        }
      ]
    },
    {
      "cell_type": "code",
      "source": [
        "#Access the 10th value \n",
        "#Your code here\n",
        "print('The tenth index is:', company_df.values[10])"
      ],
      "metadata": {
        "id": "jsMFXEa_FRjX",
        "colab": {
          "base_uri": "https://localhost:8080/"
        },
        "outputId": "3dad74ce-cd8b-439c-e352-f72a4d06d4aa"
      },
      "execution_count": null,
      "outputs": [
        {
          "output_type": "stream",
          "name": "stdout",
          "text": [
            "The tenth index is: ['Rajesh Gopinath' 'India']\n"
          ]
        }
      ]
    },
    {
      "cell_type": "markdown",
      "source": [
        "Lets now try to use a mask to select a sub-dataframe which only has the companies which are located in India. ( Hint: Try to use a comparison operator in the Country column)"
      ],
      "metadata": {
        "id": "kEyOVXChGMwZ"
      }
    },
    {
      "cell_type": "code",
      "source": [
        "#Create a mask to make a sub-dataframe with all the companies located in country India\n",
        "#Your code here\n",
        "print(company_df[company_df['Country']=='India'])"
      ],
      "metadata": {
        "id": "pe55PiE7D7Sk",
        "colab": {
          "base_uri": "https://localhost:8080/"
        },
        "outputId": "f3404226-2402-4337-81cc-c2a24b3ed71f"
      },
      "execution_count": null,
      "outputs": [
        {
          "output_type": "stream",
          "name": "stdout",
          "text": [
            "                           CEO Country\n",
            "Flipkart  Kalyan Krishnamurthy   India\n",
            "Oyo             Ritesh Agarwal   India\n",
            "Paytm     Vijay Shekhar Sharma   India\n",
            "TCS            Rajesh Gopinath   India\n"
          ]
        }
      ]
    },
    {
      "cell_type": "markdown",
      "source": [
        "Next, let us try to select the companies in India based on index by creating multi-index.<br>\n",
        "First, reset index to have the company as a column."
      ],
      "metadata": {
        "id": "_-Z40Tec6MeY"
      }
    },
    {
      "cell_type": "code",
      "source": [
        "#Your code here\n",
        "company_df = company_df.reset_index()"
      ],
      "metadata": {
        "id": "iINN0tSe6MDT"
      },
      "execution_count": null,
      "outputs": []
    },
    {
      "cell_type": "markdown",
      "source": [
        "Next, rename the new index column to 'Company'. Use the `rename` attribute and pass the 'column' argument as a dictionary from the old name to new name."
      ],
      "metadata": {
        "id": "6fIxljpBZFvz"
      }
    },
    {
      "cell_type": "code",
      "source": [
        "#Your code here\n",
        "company_df = company_df.rename(columns = {'index':'Company'})"
      ],
      "metadata": {
        "id": "ZHzw8NIkmNg8"
      },
      "execution_count": null,
      "outputs": []
    },
    {
      "cell_type": "code",
      "source": [
        "company_df"
      ],
      "metadata": {
        "colab": {
          "base_uri": "https://localhost:8080/",
          "height": 457
        },
        "id": "atQsXInHPc-H",
        "outputId": "c0a539bf-d2a6-411c-c9c7-7fd9088d394f"
      },
      "execution_count": null,
      "outputs": [
        {
          "output_type": "execute_result",
          "data": {
            "text/html": [
              "\n",
              "  <div id=\"df-d19c258e-0e89-41f1-a995-b0b48b87a508\">\n",
              "    <div class=\"colab-df-container\">\n",
              "      <div>\n",
              "<style scoped>\n",
              "    .dataframe tbody tr th:only-of-type {\n",
              "        vertical-align: middle;\n",
              "    }\n",
              "\n",
              "    .dataframe tbody tr th {\n",
              "        vertical-align: top;\n",
              "    }\n",
              "\n",
              "    .dataframe thead th {\n",
              "        text-align: right;\n",
              "    }\n",
              "</style>\n",
              "<table border=\"1\" class=\"dataframe\">\n",
              "  <thead>\n",
              "    <tr style=\"text-align: right;\">\n",
              "      <th></th>\n",
              "      <th>Company</th>\n",
              "      <th>CEO</th>\n",
              "      <th>Country</th>\n",
              "    </tr>\n",
              "  </thead>\n",
              "  <tbody>\n",
              "    <tr>\n",
              "      <th>0</th>\n",
              "      <td>Alphabet</td>\n",
              "      <td>Sundar Pichai</td>\n",
              "      <td>US</td>\n",
              "    </tr>\n",
              "    <tr>\n",
              "      <th>1</th>\n",
              "      <td>Amazon</td>\n",
              "      <td>Jeff Bezos</td>\n",
              "      <td>US</td>\n",
              "    </tr>\n",
              "    <tr>\n",
              "      <th>2</th>\n",
              "      <td>Adobe</td>\n",
              "      <td>Shantanu Narayen</td>\n",
              "      <td>US</td>\n",
              "    </tr>\n",
              "    <tr>\n",
              "      <th>3</th>\n",
              "      <td>Alibaba</td>\n",
              "      <td>Daniel Zhang</td>\n",
              "      <td>China</td>\n",
              "    </tr>\n",
              "    <tr>\n",
              "      <th>4</th>\n",
              "      <td>Flipkart</td>\n",
              "      <td>Kalyan Krishnamurthy</td>\n",
              "      <td>India</td>\n",
              "    </tr>\n",
              "    <tr>\n",
              "      <th>5</th>\n",
              "      <td>IBM</td>\n",
              "      <td>Arvind Krishna</td>\n",
              "      <td>US</td>\n",
              "    </tr>\n",
              "    <tr>\n",
              "      <th>6</th>\n",
              "      <td>Meta</td>\n",
              "      <td>Mark Zuckerberg</td>\n",
              "      <td>US</td>\n",
              "    </tr>\n",
              "    <tr>\n",
              "      <th>7</th>\n",
              "      <td>Microsoft</td>\n",
              "      <td>Satya Nadella</td>\n",
              "      <td>US</td>\n",
              "    </tr>\n",
              "    <tr>\n",
              "      <th>8</th>\n",
              "      <td>Oyo</td>\n",
              "      <td>Ritesh Agarwal</td>\n",
              "      <td>India</td>\n",
              "    </tr>\n",
              "    <tr>\n",
              "      <th>9</th>\n",
              "      <td>Paytm</td>\n",
              "      <td>Vijay Shekhar Sharma</td>\n",
              "      <td>India</td>\n",
              "    </tr>\n",
              "    <tr>\n",
              "      <th>10</th>\n",
              "      <td>TCS</td>\n",
              "      <td>Rajesh Gopinath</td>\n",
              "      <td>India</td>\n",
              "    </tr>\n",
              "    <tr>\n",
              "      <th>11</th>\n",
              "      <td>Tesla</td>\n",
              "      <td>Elon Musk</td>\n",
              "      <td>US</td>\n",
              "    </tr>\n",
              "    <tr>\n",
              "      <th>12</th>\n",
              "      <td>Twitter</td>\n",
              "      <td>Parag Agrawal</td>\n",
              "      <td>US</td>\n",
              "    </tr>\n",
              "  </tbody>\n",
              "</table>\n",
              "</div>\n",
              "      <button class=\"colab-df-convert\" onclick=\"convertToInteractive('df-d19c258e-0e89-41f1-a995-b0b48b87a508')\"\n",
              "              title=\"Convert this dataframe to an interactive table.\"\n",
              "              style=\"display:none;\">\n",
              "        \n",
              "  <svg xmlns=\"http://www.w3.org/2000/svg\" height=\"24px\"viewBox=\"0 0 24 24\"\n",
              "       width=\"24px\">\n",
              "    <path d=\"M0 0h24v24H0V0z\" fill=\"none\"/>\n",
              "    <path d=\"M18.56 5.44l.94 2.06.94-2.06 2.06-.94-2.06-.94-.94-2.06-.94 2.06-2.06.94zm-11 1L8.5 8.5l.94-2.06 2.06-.94-2.06-.94L8.5 2.5l-.94 2.06-2.06.94zm10 10l.94 2.06.94-2.06 2.06-.94-2.06-.94-.94-2.06-.94 2.06-2.06.94z\"/><path d=\"M17.41 7.96l-1.37-1.37c-.4-.4-.92-.59-1.43-.59-.52 0-1.04.2-1.43.59L10.3 9.45l-7.72 7.72c-.78.78-.78 2.05 0 2.83L4 21.41c.39.39.9.59 1.41.59.51 0 1.02-.2 1.41-.59l7.78-7.78 2.81-2.81c.8-.78.8-2.07 0-2.86zM5.41 20L4 18.59l7.72-7.72 1.47 1.35L5.41 20z\"/>\n",
              "  </svg>\n",
              "      </button>\n",
              "      \n",
              "  <style>\n",
              "    .colab-df-container {\n",
              "      display:flex;\n",
              "      flex-wrap:wrap;\n",
              "      gap: 12px;\n",
              "    }\n",
              "\n",
              "    .colab-df-convert {\n",
              "      background-color: #E8F0FE;\n",
              "      border: none;\n",
              "      border-radius: 50%;\n",
              "      cursor: pointer;\n",
              "      display: none;\n",
              "      fill: #1967D2;\n",
              "      height: 32px;\n",
              "      padding: 0 0 0 0;\n",
              "      width: 32px;\n",
              "    }\n",
              "\n",
              "    .colab-df-convert:hover {\n",
              "      background-color: #E2EBFA;\n",
              "      box-shadow: 0px 1px 2px rgba(60, 64, 67, 0.3), 0px 1px 3px 1px rgba(60, 64, 67, 0.15);\n",
              "      fill: #174EA6;\n",
              "    }\n",
              "\n",
              "    [theme=dark] .colab-df-convert {\n",
              "      background-color: #3B4455;\n",
              "      fill: #D2E3FC;\n",
              "    }\n",
              "\n",
              "    [theme=dark] .colab-df-convert:hover {\n",
              "      background-color: #434B5C;\n",
              "      box-shadow: 0px 1px 3px 1px rgba(0, 0, 0, 0.15);\n",
              "      filter: drop-shadow(0px 1px 2px rgba(0, 0, 0, 0.3));\n",
              "      fill: #FFFFFF;\n",
              "    }\n",
              "  </style>\n",
              "\n",
              "      <script>\n",
              "        const buttonEl =\n",
              "          document.querySelector('#df-d19c258e-0e89-41f1-a995-b0b48b87a508 button.colab-df-convert');\n",
              "        buttonEl.style.display =\n",
              "          google.colab.kernel.accessAllowed ? 'block' : 'none';\n",
              "\n",
              "        async function convertToInteractive(key) {\n",
              "          const element = document.querySelector('#df-d19c258e-0e89-41f1-a995-b0b48b87a508');\n",
              "          const dataTable =\n",
              "            await google.colab.kernel.invokeFunction('convertToInteractive',\n",
              "                                                     [key], {});\n",
              "          if (!dataTable) return;\n",
              "\n",
              "          const docLinkHtml = 'Like what you see? Visit the ' +\n",
              "            '<a target=\"_blank\" href=https://colab.research.google.com/notebooks/data_table.ipynb>data table notebook</a>'\n",
              "            + ' to learn more about interactive tables.';\n",
              "          element.innerHTML = '';\n",
              "          dataTable['output_type'] = 'display_data';\n",
              "          await google.colab.output.renderOutput(dataTable, element);\n",
              "          const docLink = document.createElement('div');\n",
              "          docLink.innerHTML = docLinkHtml;\n",
              "          element.appendChild(docLink);\n",
              "        }\n",
              "      </script>\n",
              "    </div>\n",
              "  </div>\n",
              "  "
            ],
            "text/plain": [
              "      Company                   CEO Country\n",
              "0    Alphabet         Sundar Pichai      US\n",
              "1      Amazon            Jeff Bezos      US\n",
              "2       Adobe      Shantanu Narayen      US\n",
              "3     Alibaba          Daniel Zhang   China\n",
              "4    Flipkart  Kalyan Krishnamurthy   India\n",
              "5         IBM        Arvind Krishna      US\n",
              "6        Meta       Mark Zuckerberg      US\n",
              "7   Microsoft         Satya Nadella      US\n",
              "8         Oyo        Ritesh Agarwal   India\n",
              "9       Paytm  Vijay Shekhar Sharma   India\n",
              "10        TCS       Rajesh Gopinath   India\n",
              "11      Tesla             Elon Musk      US\n",
              "12    Twitter         Parag Agrawal      US"
            ]
          },
          "metadata": {},
          "execution_count": 15
        }
      ]
    },
    {
      "cell_type": "markdown",
      "source": [
        "Now, use the `set_index` attribute to make the `Country` and `Company` columns as index."
      ],
      "metadata": {
        "id": "b79AMQj8mMqY"
      }
    },
    {
      "cell_type": "code",
      "source": [
        "#Your code here\n",
        "company_df = company_df.set_index(['Country', 'Company'])"
      ],
      "metadata": {
        "id": "N2Xc-cK7mu3u"
      },
      "execution_count": null,
      "outputs": []
    },
    {
      "cell_type": "code",
      "source": [
        "company_df"
      ],
      "metadata": {
        "colab": {
          "base_uri": "https://localhost:8080/",
          "height": 489
        },
        "id": "bic8TomHPlky",
        "outputId": "3e6434b4-11f9-4c89-e42b-8f2a0882b24e"
      },
      "execution_count": null,
      "outputs": [
        {
          "output_type": "execute_result",
          "data": {
            "text/html": [
              "\n",
              "  <div id=\"df-bee4591a-34e7-4d6c-8e1e-d34d8006f823\">\n",
              "    <div class=\"colab-df-container\">\n",
              "      <div>\n",
              "<style scoped>\n",
              "    .dataframe tbody tr th:only-of-type {\n",
              "        vertical-align: middle;\n",
              "    }\n",
              "\n",
              "    .dataframe tbody tr th {\n",
              "        vertical-align: top;\n",
              "    }\n",
              "\n",
              "    .dataframe thead th {\n",
              "        text-align: right;\n",
              "    }\n",
              "</style>\n",
              "<table border=\"1\" class=\"dataframe\">\n",
              "  <thead>\n",
              "    <tr style=\"text-align: right;\">\n",
              "      <th></th>\n",
              "      <th></th>\n",
              "      <th>CEO</th>\n",
              "    </tr>\n",
              "    <tr>\n",
              "      <th>Country</th>\n",
              "      <th>Company</th>\n",
              "      <th></th>\n",
              "    </tr>\n",
              "  </thead>\n",
              "  <tbody>\n",
              "    <tr>\n",
              "      <th rowspan=\"3\" valign=\"top\">US</th>\n",
              "      <th>Alphabet</th>\n",
              "      <td>Sundar Pichai</td>\n",
              "    </tr>\n",
              "    <tr>\n",
              "      <th>Amazon</th>\n",
              "      <td>Jeff Bezos</td>\n",
              "    </tr>\n",
              "    <tr>\n",
              "      <th>Adobe</th>\n",
              "      <td>Shantanu Narayen</td>\n",
              "    </tr>\n",
              "    <tr>\n",
              "      <th>China</th>\n",
              "      <th>Alibaba</th>\n",
              "      <td>Daniel Zhang</td>\n",
              "    </tr>\n",
              "    <tr>\n",
              "      <th>India</th>\n",
              "      <th>Flipkart</th>\n",
              "      <td>Kalyan Krishnamurthy</td>\n",
              "    </tr>\n",
              "    <tr>\n",
              "      <th rowspan=\"3\" valign=\"top\">US</th>\n",
              "      <th>IBM</th>\n",
              "      <td>Arvind Krishna</td>\n",
              "    </tr>\n",
              "    <tr>\n",
              "      <th>Meta</th>\n",
              "      <td>Mark Zuckerberg</td>\n",
              "    </tr>\n",
              "    <tr>\n",
              "      <th>Microsoft</th>\n",
              "      <td>Satya Nadella</td>\n",
              "    </tr>\n",
              "    <tr>\n",
              "      <th rowspan=\"3\" valign=\"top\">India</th>\n",
              "      <th>Oyo</th>\n",
              "      <td>Ritesh Agarwal</td>\n",
              "    </tr>\n",
              "    <tr>\n",
              "      <th>Paytm</th>\n",
              "      <td>Vijay Shekhar Sharma</td>\n",
              "    </tr>\n",
              "    <tr>\n",
              "      <th>TCS</th>\n",
              "      <td>Rajesh Gopinath</td>\n",
              "    </tr>\n",
              "    <tr>\n",
              "      <th rowspan=\"2\" valign=\"top\">US</th>\n",
              "      <th>Tesla</th>\n",
              "      <td>Elon Musk</td>\n",
              "    </tr>\n",
              "    <tr>\n",
              "      <th>Twitter</th>\n",
              "      <td>Parag Agrawal</td>\n",
              "    </tr>\n",
              "  </tbody>\n",
              "</table>\n",
              "</div>\n",
              "      <button class=\"colab-df-convert\" onclick=\"convertToInteractive('df-bee4591a-34e7-4d6c-8e1e-d34d8006f823')\"\n",
              "              title=\"Convert this dataframe to an interactive table.\"\n",
              "              style=\"display:none;\">\n",
              "        \n",
              "  <svg xmlns=\"http://www.w3.org/2000/svg\" height=\"24px\"viewBox=\"0 0 24 24\"\n",
              "       width=\"24px\">\n",
              "    <path d=\"M0 0h24v24H0V0z\" fill=\"none\"/>\n",
              "    <path d=\"M18.56 5.44l.94 2.06.94-2.06 2.06-.94-2.06-.94-.94-2.06-.94 2.06-2.06.94zm-11 1L8.5 8.5l.94-2.06 2.06-.94-2.06-.94L8.5 2.5l-.94 2.06-2.06.94zm10 10l.94 2.06.94-2.06 2.06-.94-2.06-.94-.94-2.06-.94 2.06-2.06.94z\"/><path d=\"M17.41 7.96l-1.37-1.37c-.4-.4-.92-.59-1.43-.59-.52 0-1.04.2-1.43.59L10.3 9.45l-7.72 7.72c-.78.78-.78 2.05 0 2.83L4 21.41c.39.39.9.59 1.41.59.51 0 1.02-.2 1.41-.59l7.78-7.78 2.81-2.81c.8-.78.8-2.07 0-2.86zM5.41 20L4 18.59l7.72-7.72 1.47 1.35L5.41 20z\"/>\n",
              "  </svg>\n",
              "      </button>\n",
              "      \n",
              "  <style>\n",
              "    .colab-df-container {\n",
              "      display:flex;\n",
              "      flex-wrap:wrap;\n",
              "      gap: 12px;\n",
              "    }\n",
              "\n",
              "    .colab-df-convert {\n",
              "      background-color: #E8F0FE;\n",
              "      border: none;\n",
              "      border-radius: 50%;\n",
              "      cursor: pointer;\n",
              "      display: none;\n",
              "      fill: #1967D2;\n",
              "      height: 32px;\n",
              "      padding: 0 0 0 0;\n",
              "      width: 32px;\n",
              "    }\n",
              "\n",
              "    .colab-df-convert:hover {\n",
              "      background-color: #E2EBFA;\n",
              "      box-shadow: 0px 1px 2px rgba(60, 64, 67, 0.3), 0px 1px 3px 1px rgba(60, 64, 67, 0.15);\n",
              "      fill: #174EA6;\n",
              "    }\n",
              "\n",
              "    [theme=dark] .colab-df-convert {\n",
              "      background-color: #3B4455;\n",
              "      fill: #D2E3FC;\n",
              "    }\n",
              "\n",
              "    [theme=dark] .colab-df-convert:hover {\n",
              "      background-color: #434B5C;\n",
              "      box-shadow: 0px 1px 3px 1px rgba(0, 0, 0, 0.15);\n",
              "      filter: drop-shadow(0px 1px 2px rgba(0, 0, 0, 0.3));\n",
              "      fill: #FFFFFF;\n",
              "    }\n",
              "  </style>\n",
              "\n",
              "      <script>\n",
              "        const buttonEl =\n",
              "          document.querySelector('#df-bee4591a-34e7-4d6c-8e1e-d34d8006f823 button.colab-df-convert');\n",
              "        buttonEl.style.display =\n",
              "          google.colab.kernel.accessAllowed ? 'block' : 'none';\n",
              "\n",
              "        async function convertToInteractive(key) {\n",
              "          const element = document.querySelector('#df-bee4591a-34e7-4d6c-8e1e-d34d8006f823');\n",
              "          const dataTable =\n",
              "            await google.colab.kernel.invokeFunction('convertToInteractive',\n",
              "                                                     [key], {});\n",
              "          if (!dataTable) return;\n",
              "\n",
              "          const docLinkHtml = 'Like what you see? Visit the ' +\n",
              "            '<a target=\"_blank\" href=https://colab.research.google.com/notebooks/data_table.ipynb>data table notebook</a>'\n",
              "            + ' to learn more about interactive tables.';\n",
              "          element.innerHTML = '';\n",
              "          dataTable['output_type'] = 'display_data';\n",
              "          await google.colab.output.renderOutput(dataTable, element);\n",
              "          const docLink = document.createElement('div');\n",
              "          docLink.innerHTML = docLinkHtml;\n",
              "          element.appendChild(docLink);\n",
              "        }\n",
              "      </script>\n",
              "    </div>\n",
              "  </div>\n",
              "  "
            ],
            "text/plain": [
              "                                    CEO\n",
              "Country Company                        \n",
              "US      Alphabet          Sundar Pichai\n",
              "        Amazon               Jeff Bezos\n",
              "        Adobe          Shantanu Narayen\n",
              "China   Alibaba            Daniel Zhang\n",
              "India   Flipkart   Kalyan Krishnamurthy\n",
              "US      IBM              Arvind Krishna\n",
              "        Meta            Mark Zuckerberg\n",
              "        Microsoft         Satya Nadella\n",
              "India   Oyo              Ritesh Agarwal\n",
              "        Paytm      Vijay Shekhar Sharma\n",
              "        TCS             Rajesh Gopinath\n",
              "US      Tesla                 Elon Musk\n",
              "        Twitter           Parag Agrawal"
            ]
          },
          "metadata": {},
          "execution_count": 17
        }
      ]
    },
    {
      "cell_type": "markdown",
      "source": [
        "In this new DataFrame, use the `loc` keyword to choose all companies based in India."
      ],
      "metadata": {
        "id": "Zk6Vk16smwtc"
      }
    },
    {
      "cell_type": "code",
      "source": [
        "#Your code here\n",
        "print(company_df.loc['India'])"
      ],
      "metadata": {
        "id": "fTrWgUNon7Q5",
        "colab": {
          "base_uri": "https://localhost:8080/"
        },
        "outputId": "59ff645c-e651-45dc-b5a8-6afb04766ff4"
      },
      "execution_count": null,
      "outputs": [
        {
          "output_type": "stream",
          "name": "stdout",
          "text": [
            "                           CEO\n",
            "Company                       \n",
            "Flipkart  Kalyan Krishnamurthy\n",
            "Oyo             Ritesh Agarwal\n",
            "Paytm     Vijay Shekhar Sharma\n",
            "TCS            Rajesh Gopinath\n"
          ]
        }
      ]
    },
    {
      "cell_type": "markdown",
      "source": [
        "Finally, lets try a little advanced indexing. Try to access the row 'Tesla' and print out the result. (PS. You may know him very well!! )"
      ],
      "metadata": {
        "id": "YTjVFkMeGfxu"
      }
    },
    {
      "cell_type": "code",
      "source": [
        "#Your code here\n",
        "print(company_df.loc['US','Tesla'])"
      ],
      "metadata": {
        "id": "5gN8cewFD7Pv",
        "colab": {
          "base_uri": "https://localhost:8080/"
        },
        "outputId": "079961d9-7288-4971-9c1e-bb47f5bdf9d7"
      },
      "execution_count": null,
      "outputs": [
        {
          "output_type": "stream",
          "name": "stdout",
          "text": [
            "CEO    Elon Musk\n",
            "Name: (US, Tesla), dtype: object\n"
          ]
        }
      ]
    }
  ]
}