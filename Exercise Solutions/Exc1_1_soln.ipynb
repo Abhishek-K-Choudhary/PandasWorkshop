{
  "nbformat": 4,
  "nbformat_minor": 0,
  "metadata": {
    "colab": {
      "name": "Exc1_1_soln.ipynb",
      "provenance": []
    },
    "kernelspec": {
      "name": "python3",
      "display_name": "Python 3"
    },
    "language_info": {
      "name": "python"
    }
  },
  "cells": [
    {
      "cell_type": "markdown",
      "source": [
        "## Exercise 1: Know your Company Part 1\n",
        "Since you guys are interested in a DataScience career, pretty soon you will be looking at companies and applying for jobs. So with that in mind lets make a small dataframe regarding some of the biggest companies in the world. <br>\n",
        "\n",
        "\n"
      ],
      "metadata": {
        "id": "drcg0SApz449"
      }
    },
    {
      "cell_type": "markdown",
      "source": [
        "To start, we need to import the `pandas` library first. Do it in the same way as shown in the lecture."
      ],
      "metadata": {
        "id": "1Uvof-EI7gYi"
      }
    },
    {
      "cell_type": "code",
      "source": [
        "#Your code here\n",
        "import pandas as pd"
      ],
      "metadata": {
        "id": "cN8QyE_O7dka"
      },
      "execution_count": null,
      "outputs": []
    },
    {
      "cell_type": "markdown",
      "source": [
        "First make a Pandas Series from the dictionary of companies and the respective Chief Executive Officers (CEO)<br>\n",
        "Display the series"
      ],
      "metadata": {
        "id": "eFzkUHw3ApYd"
      }
    },
    {
      "cell_type": "code",
      "source": [
        "ceo_dict = {'Alphabet':'Sundar Pichai','Amazon':'Jeff Bezos','Adobe':'Shantanu Narayen','Alibaba':'Daniel Zhang',\n",
        "            'Flipkart':'Kalyan Krishnamurthy','IBM':'Arvind Krishna','Meta':'Mark Zuckerberg','Microsoft':'Satya Nadella',\n",
        "            'Oyo':'Ritesh Agarwal','Paytm':'Vijay Shekhar Sharma','TCS':'Rajesh Gopinath','Tesla':'Elon Musk','Twitter':'Parag Agrawal'}\n",
        "#Create a Pandas Series from the above dictionary and assign it to a variable\n",
        "#Display the Series\n",
        "#Your code here\n",
        "ceo_df = pd.Series(ceo_dict)\n",
        "ceo_df"
      ],
      "metadata": {
        "id": "slODxz5t20Ig",
        "colab": {
          "base_uri": "https://localhost:8080/"
        },
        "outputId": "bf34575d-2c37-40ec-e14b-29eb8d58039f"
      },
      "execution_count": null,
      "outputs": [
        {
          "output_type": "execute_result",
          "data": {
            "text/plain": [
              "Alphabet            Sundar Pichai\n",
              "Amazon                 Jeff Bezos\n",
              "Adobe            Shantanu Narayen\n",
              "Alibaba              Daniel Zhang\n",
              "Flipkart     Kalyan Krishnamurthy\n",
              "IBM                Arvind Krishna\n",
              "Meta              Mark Zuckerberg\n",
              "Microsoft           Satya Nadella\n",
              "Oyo                Ritesh Agarwal\n",
              "Paytm        Vijay Shekhar Sharma\n",
              "TCS               Rajesh Gopinath\n",
              "Tesla                   Elon Musk\n",
              "Twitter             Parag Agrawal\n",
              "dtype: object"
            ]
          },
          "metadata": {},
          "execution_count": 11
        }
      ]
    },
    {
      "cell_type": "markdown",
      "source": [
        "Find the CEO of Flipkart from the above Series and print the result."
      ],
      "metadata": {
        "id": "HtvVOmu87AOu"
      }
    },
    {
      "cell_type": "code",
      "source": [
        "#Access the CEO of Flipkart from the Series and print the result\n",
        "#Your code here\n",
        "print('The CEO of Flipkart is:',ceo_df['Flipkart'])"
      ],
      "metadata": {
        "id": "9kNrQ6wC2z9h",
        "colab": {
          "base_uri": "https://localhost:8080/"
        },
        "outputId": "b91f807b-3628-4709-9324-b56c3c9b2599"
      },
      "execution_count": null,
      "outputs": [
        {
          "output_type": "stream",
          "name": "stdout",
          "text": [
            "The CEO of Flipkart is: Kalyan Krishnamurthy\n"
          ]
        }
      ]
    },
    {
      "cell_type": "markdown",
      "source": [
        "Print out all the CEO of companies starting from Flipkart and ending with Paytm. "
      ],
      "metadata": {
        "id": "QMrHMtAUBTqv"
      }
    },
    {
      "cell_type": "code",
      "source": [
        "#Display all the CEO of companies starting from Flipkart to Paytm (Hint: Remember the slicing selection shown in the lecture)\n",
        "#Your code here\n",
        "ceo_df['Flipkart':'Paytm']"
      ],
      "metadata": {
        "id": "NVmMn2GY_G3m",
        "colab": {
          "base_uri": "https://localhost:8080/"
        },
        "outputId": "c5be7d84-0c95-43dc-e2a4-a39aa844a8e7"
      },
      "execution_count": null,
      "outputs": [
        {
          "output_type": "execute_result",
          "data": {
            "text/plain": [
              "Flipkart     Kalyan Krishnamurthy\n",
              "IBM                Arvind Krishna\n",
              "Meta              Mark Zuckerberg\n",
              "Microsoft           Satya Nadella\n",
              "Oyo                Ritesh Agarwal\n",
              "Paytm        Vijay Shekhar Sharma\n",
              "dtype: object"
            ]
          },
          "metadata": {},
          "execution_count": 5
        }
      ]
    },
    {
      "cell_type": "markdown",
      "source": [
        "Next, make a Pandas Series from the dictionary of companies and the country it is based in.<br>\n",
        "Display the Series.\n"
      ],
      "metadata": {
        "id": "f-2sGECjBn9H"
      }
    },
    {
      "cell_type": "code",
      "source": [
        "country_dict = {'Alphabet':'US','Amazon':'US','Adobe':'US','Alibaba':'China',\n",
        "                'Flipkart':'India','IBM':'US','Meta':'US','Microsoft':'US',\n",
        "                'Oyo':'India','Paytm':'India','TCS':'India','Tesla':'US','Twitter':'US'}\n",
        "#Make the Series from the above dictionary\n",
        "#Your code here\n",
        "country_df = pd.Series(country_dict)\n",
        "country_df"
      ],
      "metadata": {
        "id": "8ins-AIP2z0p",
        "colab": {
          "base_uri": "https://localhost:8080/"
        },
        "outputId": "39c2dfdb-ea58-4e0e-c12f-4ca2e0b8b41c"
      },
      "execution_count": null,
      "outputs": [
        {
          "output_type": "execute_result",
          "data": {
            "text/plain": [
              "Alphabet        US\n",
              "Amazon          US\n",
              "Adobe           US\n",
              "Alibaba      China\n",
              "Flipkart     India\n",
              "IBM             US\n",
              "Meta            US\n",
              "Microsoft       US\n",
              "Oyo          India\n",
              "Paytm        India\n",
              "TCS          India\n",
              "Tesla           US\n",
              "Twitter         US\n",
              "dtype: object"
            ]
          },
          "metadata": {},
          "execution_count": 10
        }
      ]
    },
    {
      "cell_type": "markdown",
      "source": [
        "Now, create a DataFrame from the two Series you have created.<br>\n",
        "Display the DataFrame."
      ],
      "metadata": {
        "id": "2bP1ROyhCALq"
      }
    },
    {
      "cell_type": "code",
      "source": [
        "#Create and display a DataFrame based on the 2 Series that you have made above\n",
        "#Your code here\n",
        "company_df = pd.DataFrame({'CEO':ceo_df, 'Country':country_df})\n",
        "company_df"
      ],
      "metadata": {
        "id": "yHR_bF6u2zpz",
        "colab": {
          "base_uri": "https://localhost:8080/",
          "height": 457
        },
        "outputId": "e1cec643-bbeb-4782-d1dd-37a773f883ca"
      },
      "execution_count": null,
      "outputs": [
        {
          "output_type": "execute_result",
          "data": {
            "text/html": [
              "\n",
              "  <div id=\"df-2a657d3d-5286-4074-bfad-bca1a0b20006\">\n",
              "    <div class=\"colab-df-container\">\n",
              "      <div>\n",
              "<style scoped>\n",
              "    .dataframe tbody tr th:only-of-type {\n",
              "        vertical-align: middle;\n",
              "    }\n",
              "\n",
              "    .dataframe tbody tr th {\n",
              "        vertical-align: top;\n",
              "    }\n",
              "\n",
              "    .dataframe thead th {\n",
              "        text-align: right;\n",
              "    }\n",
              "</style>\n",
              "<table border=\"1\" class=\"dataframe\">\n",
              "  <thead>\n",
              "    <tr style=\"text-align: right;\">\n",
              "      <th></th>\n",
              "      <th>CEO</th>\n",
              "      <th>Country</th>\n",
              "    </tr>\n",
              "  </thead>\n",
              "  <tbody>\n",
              "    <tr>\n",
              "      <th>Alphabet</th>\n",
              "      <td>Sundar Pichai</td>\n",
              "      <td>US</td>\n",
              "    </tr>\n",
              "    <tr>\n",
              "      <th>Amazon</th>\n",
              "      <td>Jeff Bezos</td>\n",
              "      <td>US</td>\n",
              "    </tr>\n",
              "    <tr>\n",
              "      <th>Adobe</th>\n",
              "      <td>Shantanu Narayen</td>\n",
              "      <td>US</td>\n",
              "    </tr>\n",
              "    <tr>\n",
              "      <th>Alibaba</th>\n",
              "      <td>Daniel Zhang</td>\n",
              "      <td>China</td>\n",
              "    </tr>\n",
              "    <tr>\n",
              "      <th>Flipkart</th>\n",
              "      <td>Kalyan Krishnamurthy</td>\n",
              "      <td>India</td>\n",
              "    </tr>\n",
              "    <tr>\n",
              "      <th>IBM</th>\n",
              "      <td>Arvind Krishna</td>\n",
              "      <td>US</td>\n",
              "    </tr>\n",
              "    <tr>\n",
              "      <th>Meta</th>\n",
              "      <td>Mark Zuckerberg</td>\n",
              "      <td>US</td>\n",
              "    </tr>\n",
              "    <tr>\n",
              "      <th>Microsoft</th>\n",
              "      <td>Satya Nadella</td>\n",
              "      <td>US</td>\n",
              "    </tr>\n",
              "    <tr>\n",
              "      <th>Oyo</th>\n",
              "      <td>Ritesh Agarwal</td>\n",
              "      <td>India</td>\n",
              "    </tr>\n",
              "    <tr>\n",
              "      <th>Paytm</th>\n",
              "      <td>Vijay Shekhar Sharma</td>\n",
              "      <td>India</td>\n",
              "    </tr>\n",
              "    <tr>\n",
              "      <th>TCS</th>\n",
              "      <td>Rajesh Gopinath</td>\n",
              "      <td>India</td>\n",
              "    </tr>\n",
              "    <tr>\n",
              "      <th>Tesla</th>\n",
              "      <td>Elon Musk</td>\n",
              "      <td>US</td>\n",
              "    </tr>\n",
              "    <tr>\n",
              "      <th>Twitter</th>\n",
              "      <td>Parag Agrawal</td>\n",
              "      <td>US</td>\n",
              "    </tr>\n",
              "  </tbody>\n",
              "</table>\n",
              "</div>\n",
              "      <button class=\"colab-df-convert\" onclick=\"convertToInteractive('df-2a657d3d-5286-4074-bfad-bca1a0b20006')\"\n",
              "              title=\"Convert this dataframe to an interactive table.\"\n",
              "              style=\"display:none;\">\n",
              "        \n",
              "  <svg xmlns=\"http://www.w3.org/2000/svg\" height=\"24px\"viewBox=\"0 0 24 24\"\n",
              "       width=\"24px\">\n",
              "    <path d=\"M0 0h24v24H0V0z\" fill=\"none\"/>\n",
              "    <path d=\"M18.56 5.44l.94 2.06.94-2.06 2.06-.94-2.06-.94-.94-2.06-.94 2.06-2.06.94zm-11 1L8.5 8.5l.94-2.06 2.06-.94-2.06-.94L8.5 2.5l-.94 2.06-2.06.94zm10 10l.94 2.06.94-2.06 2.06-.94-2.06-.94-.94-2.06-.94 2.06-2.06.94z\"/><path d=\"M17.41 7.96l-1.37-1.37c-.4-.4-.92-.59-1.43-.59-.52 0-1.04.2-1.43.59L10.3 9.45l-7.72 7.72c-.78.78-.78 2.05 0 2.83L4 21.41c.39.39.9.59 1.41.59.51 0 1.02-.2 1.41-.59l7.78-7.78 2.81-2.81c.8-.78.8-2.07 0-2.86zM5.41 20L4 18.59l7.72-7.72 1.47 1.35L5.41 20z\"/>\n",
              "  </svg>\n",
              "      </button>\n",
              "      \n",
              "  <style>\n",
              "    .colab-df-container {\n",
              "      display:flex;\n",
              "      flex-wrap:wrap;\n",
              "      gap: 12px;\n",
              "    }\n",
              "\n",
              "    .colab-df-convert {\n",
              "      background-color: #E8F0FE;\n",
              "      border: none;\n",
              "      border-radius: 50%;\n",
              "      cursor: pointer;\n",
              "      display: none;\n",
              "      fill: #1967D2;\n",
              "      height: 32px;\n",
              "      padding: 0 0 0 0;\n",
              "      width: 32px;\n",
              "    }\n",
              "\n",
              "    .colab-df-convert:hover {\n",
              "      background-color: #E2EBFA;\n",
              "      box-shadow: 0px 1px 2px rgba(60, 64, 67, 0.3), 0px 1px 3px 1px rgba(60, 64, 67, 0.15);\n",
              "      fill: #174EA6;\n",
              "    }\n",
              "\n",
              "    [theme=dark] .colab-df-convert {\n",
              "      background-color: #3B4455;\n",
              "      fill: #D2E3FC;\n",
              "    }\n",
              "\n",
              "    [theme=dark] .colab-df-convert:hover {\n",
              "      background-color: #434B5C;\n",
              "      box-shadow: 0px 1px 3px 1px rgba(0, 0, 0, 0.15);\n",
              "      filter: drop-shadow(0px 1px 2px rgba(0, 0, 0, 0.3));\n",
              "      fill: #FFFFFF;\n",
              "    }\n",
              "  </style>\n",
              "\n",
              "      <script>\n",
              "        const buttonEl =\n",
              "          document.querySelector('#df-2a657d3d-5286-4074-bfad-bca1a0b20006 button.colab-df-convert');\n",
              "        buttonEl.style.display =\n",
              "          google.colab.kernel.accessAllowed ? 'block' : 'none';\n",
              "\n",
              "        async function convertToInteractive(key) {\n",
              "          const element = document.querySelector('#df-2a657d3d-5286-4074-bfad-bca1a0b20006');\n",
              "          const dataTable =\n",
              "            await google.colab.kernel.invokeFunction('convertToInteractive',\n",
              "                                                     [key], {});\n",
              "          if (!dataTable) return;\n",
              "\n",
              "          const docLinkHtml = 'Like what you see? Visit the ' +\n",
              "            '<a target=\"_blank\" href=https://colab.research.google.com/notebooks/data_table.ipynb>data table notebook</a>'\n",
              "            + ' to learn more about interactive tables.';\n",
              "          element.innerHTML = '';\n",
              "          dataTable['output_type'] = 'display_data';\n",
              "          await google.colab.output.renderOutput(dataTable, element);\n",
              "          const docLink = document.createElement('div');\n",
              "          docLink.innerHTML = docLinkHtml;\n",
              "          element.appendChild(docLink);\n",
              "        }\n",
              "      </script>\n",
              "    </div>\n",
              "  </div>\n",
              "  "
            ],
            "text/plain": [
              "                            CEO Country\n",
              "Alphabet          Sundar Pichai      US\n",
              "Amazon               Jeff Bezos      US\n",
              "Adobe          Shantanu Narayen      US\n",
              "Alibaba            Daniel Zhang   China\n",
              "Flipkart   Kalyan Krishnamurthy   India\n",
              "IBM              Arvind Krishna      US\n",
              "Meta            Mark Zuckerberg      US\n",
              "Microsoft         Satya Nadella      US\n",
              "Oyo              Ritesh Agarwal   India\n",
              "Paytm      Vijay Shekhar Sharma   India\n",
              "TCS             Rajesh Gopinath   India\n",
              "Tesla                 Elon Musk      US\n",
              "Twitter           Parag Agrawal      US"
            ]
          },
          "metadata": {},
          "execution_count": 9
        }
      ]
    },
    {
      "cell_type": "markdown",
      "source": [
        "Print out the index of the above DataFrame\n"
      ],
      "metadata": {
        "id": "qnu2OCKJCMoE"
      }
    },
    {
      "cell_type": "code",
      "source": [
        "#Your code here\n",
        "company_df.index"
      ],
      "metadata": {
        "id": "LDBMd8aj9xKD",
        "colab": {
          "base_uri": "https://localhost:8080/"
        },
        "outputId": "1f801c79-a3dc-48fc-9372-88bd17f6506b"
      },
      "execution_count": null,
      "outputs": [
        {
          "output_type": "execute_result",
          "data": {
            "text/plain": [
              "Index(['Alphabet', 'Amazon', 'Adobe', 'Alibaba', 'Flipkart', 'IBM', 'Meta',\n",
              "       'Microsoft', 'Oyo', 'Paytm', 'TCS', 'Tesla', 'Twitter'],\n",
              "      dtype='object')"
            ]
          },
          "metadata": {},
          "execution_count": 12
        }
      ]
    },
    {
      "cell_type": "markdown",
      "source": [
        "Print out the columns in the DataFrame"
      ],
      "metadata": {
        "id": "ROLAjZDRCQuh"
      }
    },
    {
      "cell_type": "code",
      "source": [
        "#Your code here\n",
        "company_df.columns"
      ],
      "metadata": {
        "id": "nJkp4psL9xCf",
        "colab": {
          "base_uri": "https://localhost:8080/"
        },
        "outputId": "f409b763-eabb-4c63-c6c3-3b6c79149f89"
      },
      "execution_count": null,
      "outputs": [
        {
          "output_type": "execute_result",
          "data": {
            "text/plain": [
              "Index(['CEO', 'Country'], dtype='object')"
            ]
          },
          "metadata": {},
          "execution_count": 13
        }
      ]
    },
    {
      "cell_type": "markdown",
      "source": [
        "Access the CEO column in the DataFrame"
      ],
      "metadata": {
        "id": "cOHKr32ICUeS"
      }
    },
    {
      "cell_type": "code",
      "source": [
        "#Your code here\n",
        "company_df['CEO']"
      ],
      "metadata": {
        "id": "QxGrF--59w-h",
        "colab": {
          "base_uri": "https://localhost:8080/"
        },
        "outputId": "f49b7b96-3b66-4fd8-8749-535537d64d20"
      },
      "execution_count": null,
      "outputs": [
        {
          "output_type": "execute_result",
          "data": {
            "text/plain": [
              "Alphabet            Sundar Pichai\n",
              "Amazon                 Jeff Bezos\n",
              "Adobe            Shantanu Narayen\n",
              "Alibaba              Daniel Zhang\n",
              "Flipkart     Kalyan Krishnamurthy\n",
              "IBM                Arvind Krishna\n",
              "Meta              Mark Zuckerberg\n",
              "Microsoft           Satya Nadella\n",
              "Oyo                Ritesh Agarwal\n",
              "Paytm        Vijay Shekhar Sharma\n",
              "TCS               Rajesh Gopinath\n",
              "Tesla                   Elon Musk\n",
              "Twitter             Parag Agrawal\n",
              "Name: CEO, dtype: object"
            ]
          },
          "metadata": {},
          "execution_count": 15
        }
      ]
    },
    {
      "cell_type": "markdown",
      "source": [
        "Try to access the Flipkart row in the dataframe like you accessed in the Series."
      ],
      "metadata": {
        "id": "Xr6JNoNQCaaa"
      }
    },
    {
      "cell_type": "code",
      "source": [
        "#Try to access the 'Flipkart' row in the dataframe in a similar way to how it was done in Series\n",
        "#Your code here\n",
        "company_df['Flipkart']"
      ],
      "metadata": {
        "id": "SFASHQ-U-Rmr",
        "colab": {
          "base_uri": "https://localhost:8080/"
        },
        "outputId": "b3d65402-84b0-4607-ca21-c5450111c9f3"
      },
      "execution_count": null,
      "outputs": [
        {
          "output_type": "error",
          "ename": "KeyError",
          "evalue": "ignored",
          "traceback": [
            "\u001b[0;31m---------------------------------------------------------------------------\u001b[0m",
            "\u001b[0;31mKeyError\u001b[0m                                  Traceback (most recent call last)",
            "\u001b[0;32m/usr/local/lib/python3.7/dist-packages/pandas/core/indexes/base.py\u001b[0m in \u001b[0;36mget_loc\u001b[0;34m(self, key, method, tolerance)\u001b[0m\n\u001b[1;32m   3360\u001b[0m             \u001b[0;32mtry\u001b[0m\u001b[0;34m:\u001b[0m\u001b[0;34m\u001b[0m\u001b[0;34m\u001b[0m\u001b[0m\n\u001b[0;32m-> 3361\u001b[0;31m                 \u001b[0;32mreturn\u001b[0m \u001b[0mself\u001b[0m\u001b[0;34m.\u001b[0m\u001b[0m_engine\u001b[0m\u001b[0;34m.\u001b[0m\u001b[0mget_loc\u001b[0m\u001b[0;34m(\u001b[0m\u001b[0mcasted_key\u001b[0m\u001b[0;34m)\u001b[0m\u001b[0;34m\u001b[0m\u001b[0;34m\u001b[0m\u001b[0m\n\u001b[0m\u001b[1;32m   3362\u001b[0m             \u001b[0;32mexcept\u001b[0m \u001b[0mKeyError\u001b[0m \u001b[0;32mas\u001b[0m \u001b[0merr\u001b[0m\u001b[0;34m:\u001b[0m\u001b[0;34m\u001b[0m\u001b[0;34m\u001b[0m\u001b[0m\n",
            "\u001b[0;32m/usr/local/lib/python3.7/dist-packages/pandas/_libs/index.pyx\u001b[0m in \u001b[0;36mpandas._libs.index.IndexEngine.get_loc\u001b[0;34m()\u001b[0m\n",
            "\u001b[0;32m/usr/local/lib/python3.7/dist-packages/pandas/_libs/index.pyx\u001b[0m in \u001b[0;36mpandas._libs.index.IndexEngine.get_loc\u001b[0;34m()\u001b[0m\n",
            "\u001b[0;32mpandas/_libs/hashtable_class_helper.pxi\u001b[0m in \u001b[0;36mpandas._libs.hashtable.PyObjectHashTable.get_item\u001b[0;34m()\u001b[0m\n",
            "\u001b[0;32mpandas/_libs/hashtable_class_helper.pxi\u001b[0m in \u001b[0;36mpandas._libs.hashtable.PyObjectHashTable.get_item\u001b[0;34m()\u001b[0m\n",
            "\u001b[0;31mKeyError\u001b[0m: 'Flipkart'",
            "\nThe above exception was the direct cause of the following exception:\n",
            "\u001b[0;31mKeyError\u001b[0m                                  Traceback (most recent call last)",
            "\u001b[0;32m<ipython-input-17-48f7f77af0a8>\u001b[0m in \u001b[0;36m<module>\u001b[0;34m()\u001b[0m\n\u001b[1;32m      1\u001b[0m \u001b[0;31m#Try to access the 'Flipkart' row in the dataframe in a similar way to how it was done in Series\u001b[0m\u001b[0;34m\u001b[0m\u001b[0;34m\u001b[0m\u001b[0;34m\u001b[0m\u001b[0m\n\u001b[1;32m      2\u001b[0m \u001b[0;31m#Your code here\u001b[0m\u001b[0;34m\u001b[0m\u001b[0;34m\u001b[0m\u001b[0;34m\u001b[0m\u001b[0m\n\u001b[0;32m----> 3\u001b[0;31m \u001b[0mcompany_df\u001b[0m\u001b[0;34m[\u001b[0m\u001b[0;34m'Flipkart'\u001b[0m\u001b[0;34m]\u001b[0m\u001b[0;34m\u001b[0m\u001b[0;34m\u001b[0m\u001b[0m\n\u001b[0m",
            "\u001b[0;32m/usr/local/lib/python3.7/dist-packages/pandas/core/frame.py\u001b[0m in \u001b[0;36m__getitem__\u001b[0;34m(self, key)\u001b[0m\n\u001b[1;32m   3456\u001b[0m             \u001b[0;32mif\u001b[0m \u001b[0mself\u001b[0m\u001b[0;34m.\u001b[0m\u001b[0mcolumns\u001b[0m\u001b[0;34m.\u001b[0m\u001b[0mnlevels\u001b[0m \u001b[0;34m>\u001b[0m \u001b[0;36m1\u001b[0m\u001b[0;34m:\u001b[0m\u001b[0;34m\u001b[0m\u001b[0;34m\u001b[0m\u001b[0m\n\u001b[1;32m   3457\u001b[0m                 \u001b[0;32mreturn\u001b[0m \u001b[0mself\u001b[0m\u001b[0;34m.\u001b[0m\u001b[0m_getitem_multilevel\u001b[0m\u001b[0;34m(\u001b[0m\u001b[0mkey\u001b[0m\u001b[0;34m)\u001b[0m\u001b[0;34m\u001b[0m\u001b[0;34m\u001b[0m\u001b[0m\n\u001b[0;32m-> 3458\u001b[0;31m             \u001b[0mindexer\u001b[0m \u001b[0;34m=\u001b[0m \u001b[0mself\u001b[0m\u001b[0;34m.\u001b[0m\u001b[0mcolumns\u001b[0m\u001b[0;34m.\u001b[0m\u001b[0mget_loc\u001b[0m\u001b[0;34m(\u001b[0m\u001b[0mkey\u001b[0m\u001b[0;34m)\u001b[0m\u001b[0;34m\u001b[0m\u001b[0;34m\u001b[0m\u001b[0m\n\u001b[0m\u001b[1;32m   3459\u001b[0m             \u001b[0;32mif\u001b[0m \u001b[0mis_integer\u001b[0m\u001b[0;34m(\u001b[0m\u001b[0mindexer\u001b[0m\u001b[0;34m)\u001b[0m\u001b[0;34m:\u001b[0m\u001b[0;34m\u001b[0m\u001b[0;34m\u001b[0m\u001b[0m\n\u001b[1;32m   3460\u001b[0m                 \u001b[0mindexer\u001b[0m \u001b[0;34m=\u001b[0m \u001b[0;34m[\u001b[0m\u001b[0mindexer\u001b[0m\u001b[0;34m]\u001b[0m\u001b[0;34m\u001b[0m\u001b[0;34m\u001b[0m\u001b[0m\n",
            "\u001b[0;32m/usr/local/lib/python3.7/dist-packages/pandas/core/indexes/base.py\u001b[0m in \u001b[0;36mget_loc\u001b[0;34m(self, key, method, tolerance)\u001b[0m\n\u001b[1;32m   3361\u001b[0m                 \u001b[0;32mreturn\u001b[0m \u001b[0mself\u001b[0m\u001b[0;34m.\u001b[0m\u001b[0m_engine\u001b[0m\u001b[0;34m.\u001b[0m\u001b[0mget_loc\u001b[0m\u001b[0;34m(\u001b[0m\u001b[0mcasted_key\u001b[0m\u001b[0;34m)\u001b[0m\u001b[0;34m\u001b[0m\u001b[0;34m\u001b[0m\u001b[0m\n\u001b[1;32m   3362\u001b[0m             \u001b[0;32mexcept\u001b[0m \u001b[0mKeyError\u001b[0m \u001b[0;32mas\u001b[0m \u001b[0merr\u001b[0m\u001b[0;34m:\u001b[0m\u001b[0;34m\u001b[0m\u001b[0;34m\u001b[0m\u001b[0m\n\u001b[0;32m-> 3363\u001b[0;31m                 \u001b[0;32mraise\u001b[0m \u001b[0mKeyError\u001b[0m\u001b[0;34m(\u001b[0m\u001b[0mkey\u001b[0m\u001b[0;34m)\u001b[0m \u001b[0;32mfrom\u001b[0m \u001b[0merr\u001b[0m\u001b[0;34m\u001b[0m\u001b[0;34m\u001b[0m\u001b[0m\n\u001b[0m\u001b[1;32m   3364\u001b[0m \u001b[0;34m\u001b[0m\u001b[0m\n\u001b[1;32m   3365\u001b[0m         \u001b[0;32mif\u001b[0m \u001b[0mis_scalar\u001b[0m\u001b[0;34m(\u001b[0m\u001b[0mkey\u001b[0m\u001b[0;34m)\u001b[0m \u001b[0;32mand\u001b[0m \u001b[0misna\u001b[0m\u001b[0;34m(\u001b[0m\u001b[0mkey\u001b[0m\u001b[0;34m)\u001b[0m \u001b[0;32mand\u001b[0m \u001b[0;32mnot\u001b[0m \u001b[0mself\u001b[0m\u001b[0;34m.\u001b[0m\u001b[0mhasnans\u001b[0m\u001b[0;34m:\u001b[0m\u001b[0;34m\u001b[0m\u001b[0;34m\u001b[0m\u001b[0m\n",
            "\u001b[0;31mKeyError\u001b[0m: 'Flipkart'"
          ]
        }
      ]
    },
    {
      "cell_type": "markdown",
      "source": [
        "You must have got an error if you had directly tried to access the row using index 'Flipkart'. For accessing rows in DataFrames, we need special attributes which we are going to take a look at next."
      ],
      "metadata": {
        "id": "bVcvQ7vrCifm"
      }
    }
  ]
}