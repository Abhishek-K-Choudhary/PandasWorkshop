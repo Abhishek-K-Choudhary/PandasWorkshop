{
  "nbformat": 4,
  "nbformat_minor": 0,
  "metadata": {
    "colab": {
      "name": "index.ipynb",
      "provenance": [],
      "collapsed_sections": []
    },
    "kernelspec": {
      "name": "python3",
      "display_name": "Python 3"
    },
    "language_info": {
      "name": "python"
    }
  },
  "cells": [
    {
      "cell_type": "markdown",
      "source": [
        "The aim of this workshop is to make you comfortable with the basics of Pandas in a hands-on way where we combine both the interactive lectures and the intense coding exercises to make sure you get the knowledge as well as the practice to master the basics of Pandas.\n",
        "\n",
        "Throughout the workshop we will cover many aspects of Pandas like loading datasets, working with Pandas objects like Series and DataFrames, doing basic data manipulations and combining data from different sources to create more interesting datasets!\n",
        "\n",
        "To achieve this, we have divided the workshop in 4 sections, each section having its lecture notebooks as well as exercises. Below is the outline of the workshop:\n",
        "\n",
        "1.1 **Pandas Series, DataFrames**<br>\n",
        "\n",
        "  * Lecture 1.1: [![Open Lecture In Colab](https://colab.research.google.com/assets/colab-badge.svg)](https://colab.research.google.com/drive/1geeaH1-Z56n1z07GdjFcMxaoXnDco83J?usp=sharing) &nbsp;&nbsp;&nbsp;&nbsp; [<img src=\"https://github.githubassets.com/images/modules/logos_page/GitHub-Logo.png\" alt=\"Open In GitHub\" width=\"70\"/>](https://github.com/univai-ghf/PandasWorkshop/blob/main/Lectures/Lec1_1.ipynb)<br>\n",
        "  * Exercise 1.1: [![Open Lecture In Colab](https://colab.research.google.com/assets/colab-badge.svg)](https://colab.research.google.com/drive/1QTxGFZygrJPQ7kFLNZkDnbB4x4VROtYM?usp=sharing) &nbsp;&nbsp;&nbsp;&nbsp; [<img src=\"https://github.githubassets.com/images/modules/logos_page/GitHub-Logo.png\" alt=\"Open In GitHub\" width=\"70\"/>](https://github.com/univai-ghf/PandasWorkshop/blob/main/Exercise/Exc1_1.ipynb)<br>\n",
        "\n",
        "1.2 **Indexing in Pandas**<br>\n",
        "\n",
        "  * Lecture 1.2: [![Open Lecture In Colab](https://colab.research.google.com/assets/colab-badge.svg)](https://colab.research.google.com/drive/1hHcX1qFZJ4YctrGp7rJFQyCp_5Kq--Zi?usp=sharing) &nbsp;&nbsp;&nbsp;&nbsp; [<img src=\"https://github.githubassets.com/images/modules/logos_page/GitHub-Logo.png\" alt=\"Open In GitHub\" width=\"70\"/>](https://github.com/univai-ghf/PandasWorkshop/blob/main/Lectures/Lec1_2.ipynb) <br>\n",
        "  * Exercise 1.2: [![Open Lecture In Colab](https://colab.research.google.com/assets/colab-badge.svg)](https://colab.research.google.com/drive/1m84dfSBCK6mzMRXkjW5WelcS8wNZEf20?usp=sharing) &nbsp;&nbsp;&nbsp;&nbsp; [<img src=\"https://github.githubassets.com/images/modules/logos_page/GitHub-Logo.png\" alt=\"Open In GitHub\" width=\"70\"/>](https://github.com/univai-ghf/PandasWorkshop/blob/main/Exercise/Exc1_2.ipynb) <br>\n",
        "\n",
        "2.1 **Universal functions in Pandas, Handling missing data**<br>\n",
        "\n",
        "  * Lecture 2.1: [![Open Lecture In Colab](https://colab.research.google.com/assets/colab-badge.svg)](https://colab.research.google.com/drive/1uyJmXnxyFrHrXd61kazMXj1ULYjVIlq_?usp=sharing) &nbsp;&nbsp;&nbsp;&nbsp; [<img src=\"https://github.githubassets.com/images/modules/logos_page/GitHub-Logo.png\" alt=\"Open In GitHub\" width=\"70\"/>](https://github.com/univai-ghf/PandasWorkshop/blob/main/Lectures/Lec2_1.ipynb) <br>\n",
        "  * Exercise 2.1: [![Open Lecture In Colab](https://colab.research.google.com/assets/colab-badge.svg)](https://colab.research.google.com/drive/1abNUW57jp1kLszhLKMMP-tsJKuZrz1jr?usp=sharing) &nbsp;&nbsp;&nbsp;&nbsp; [<img src=\"https://github.githubassets.com/images/modules/logos_page/GitHub-Logo.png\" alt=\"Open In GitHub\" width=\"70\"/>](https://github.com/univai-ghf/PandasWorkshop/blob/main/Exercise/Exc2_1.ipynb) <br>\n",
        "\n",
        "2.2 **Concat, Merge and Join**<br>\n",
        "  * Lecture 2.2: [![Open Lecture In Colab](https://colab.research.google.com/assets/colab-badge.svg)](https://colab.research.google.com/drive/1fsd65NH8NA3Wvi9yL7P2qe_inDR7rmol?usp=sharing) &nbsp;&nbsp;&nbsp;&nbsp; [<img src=\"https://github.githubassets.com/images/modules/logos_page/GitHub-Logo.png\" alt=\"Open In GitHub\" width=\"70\"/>](https://github.com/univai-ghf/PandasWorkshop/blob/main/Lectures/Lec2_2.ipynb) <br>\n",
        "  * Exercise 2.2: [![Open Lecture In Colab](https://colab.research.google.com/assets/colab-badge.svg)](https://colab.research.google.com/drive/1f-YGAjul4SVDzXLtxKKLqUhISxa2RjMn?usp=sharing) &nbsp;&nbsp;&nbsp;&nbsp; [<img src=\"https://github.githubassets.com/images/modules/logos_page/GitHub-Logo.png\" alt=\"Open In GitHub\" width=\"70\"/>](https://github.com/univai-ghf/PandasWorkshop/blob/main/Exercise/Exc2_2.ipynb) <br>\n",
        "\n",
        "To further cement your understanding, we have a Homework Notebook which will cover all the topics from the lecture and give you a chance to work with an extensive dataset.<br>\n",
        "\n",
        "Homework: [![Open Homework In Colab](https://colab.research.google.com/assets/colab-badge.svg)](https://colab.research.google.com/drive/1voJCAAGjyg2lBcyOCwXeviY5AyL6ZXDz?usp=sharing) &nbsp;&nbsp;&nbsp;&nbsp; [<img src=\"https://github.githubassets.com/images/modules/logos_page/GitHub-Logo.png\" alt=\"Open In GitHub\" width=\"70\"/>](https://github.com/univai-ghf/PandasWorkshop/blob/main/Homework_PandasWorkshop.ipynb) <br>\n",
        "\n",
        "To find more resources on Pandas, go through the [Readmore](https://github.com/univai-ghf/PandasWorkshop/blob/main/ReadMore.md) file in the repository.<br>\n",
        "Happy Learning!!<br>"
      ],
      "metadata": {
        "id": "s-vh5KEuYx9l"
      }
    },
    {
      "cell_type": "code",
      "source": [
        ""
      ],
      "metadata": {
        "id": "gdZxv_Y5fLnS"
      },
      "execution_count": null,
      "outputs": []
    }
  ]
}