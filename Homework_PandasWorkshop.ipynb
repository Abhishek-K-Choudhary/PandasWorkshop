{
  "metadata": {
    "kernelspec": {
      "name": "python3",
      "display_name": "Python 3 (ipykernel)",
      "language": "python"
    },
    "colab": {
      "name": "Homework_PandasWorkshop.ipynb",
      "provenance": [],
      "collapsed_sections": []
    }
  },
  "nbformat": 4,
  "nbformat_minor": 0,
  "cells": [
    {
      "cell_type": "markdown",
      "source": [
        "# MOVIE QUIZ: How well do you know your movies? <br>\n",
        "![](https://drive.google.com/uc?export=view&id=1_vgwWJi9pLUPofW7n9EUUqora57gljJr)<br>\n",
        "<br>\n",
        "**READ THE INSTRUCTIONS CAREFULLY BEFORE STARTING THE EXERCISE**<br>\n",
        "In this notebook, we are going to work with Movies dataset which has data corresponding to movies released since 1911 till 2020. It has three different files:\n",
        "- cast_mini.csv (Data regarding cast of movies)\n",
        "- release_dates.csv (Data regarding release dates of movies in different locations)\n",
        "- titles.csv (Data regarding the titles of the movies) <br>\n",
        "\n",
        "In this exercise, we are going to work with all 3 files. "
      ],
      "metadata": {
        "id": "Uu8QJGV2Y-Sg"
      }
    },
    {
      "cell_type": "code",
      "execution_count": null,
      "metadata": {
        "id": "lJ0Ajka1Aruo"
      },
      "outputs": [],
      "source": [
        "import pandas as pd\n",
        "import numpy as np"
      ]
    },
    {
      "cell_type": "markdown",
      "metadata": {
        "id": "fix_GdLxAru0"
      },
      "source": [
        "## 1. Loading Files with Pandas\n",
        "\n",
        "\n",
        "\n",
        "\n",
        "\n",
        "\n"
      ]
    },
    {
      "cell_type": "markdown",
      "source": [
        "Load the cast_mini.csv and titles.csv files into dataframes using the `pd.read_csv` method.<br>( If you have trouble accessing the data, download the dataset from this [link](https://drive.google.com/file/d/1W4i-ELHcRsL5nBn0ZzdoMMpLEhYUgX9Z/view?usp=sharing).)"
      ],
      "metadata": {
        "id": "tvAgzyFhRQkl"
      }
    },
    {
      "cell_type": "code",
      "execution_count": null,
      "metadata": {
        "id": "BV2Q3QvUAru2"
      },
      "outputs": [],
      "source": [
        "#Load the 2 files titles.csv and cast_mini.csv \n",
        "#Your code here\n",
        "base_url = 'https://raw.githubusercontent.com/univai-ghf/PandasWorkshop/main/data/'\n",
        "___ = pd.read_csv(base_url+'cast_min.csv') #Code for loading the cast_min.csv file\n",
        "___ = pd.read_csv(base_url+'titles.csv') #Code for loading the titles.csv"
      ]
    },
    {
      "cell_type": "markdown",
      "metadata": {
        "id": "rLfDAEriAru4"
      },
      "source": [
        "### Take a quick look of the dataframe.\n",
        "\n",
        "- We can quickly see the top contents of a dataframe by using `df.head()`.\n",
        "- By default, this will show the first 5 entries, but `head()` takes an argument to specify if you want more or less.\n",
        "- A similar method is `.tail()` which shows the bottom entries. <br>\n",
        "\n",
        "Do this for both the datasets. "
      ]
    },
    {
      "cell_type": "code",
      "execution_count": null,
      "metadata": {
        "id": "dTJstpUtAru6"
      },
      "outputs": [],
      "source": [
        "# Your code here"
      ]
    },
    {
      "cell_type": "markdown",
      "metadata": {
        "id": "phgpXYqpArvI"
      },
      "source": [
        "## 2. Accessing the Row and Column Labels\n",
        "\n",
        "- The row labels (index) can be accessed through `df.index`.\n",
        "- The column labels can be accessed through `df.columns`.<br>\n",
        "\n",
        "Try it out!\n"
      ]
    },
    {
      "cell_type": "code",
      "execution_count": null,
      "metadata": {
        "id": "gc7_On9MArvJ"
      },
      "outputs": [],
      "source": [
        "#Your code here"
      ]
    },
    {
      "cell_type": "markdown",
      "metadata": {
        "id": "6yn35cSiArvG"
      },
      "source": [
        "### Data Types and shape\n",
        "- Each column will have an inferred data type which you can access using the `dtypes` attribute.\n",
        "- You can also see the shape of the dataframe using the `shape` attribute. See the shape of the `titles` dataframe. Shape will tell you the number of rows and columns in the dataframe.\n",
        "<br>\n",
        "\n",
        "Print out the data types in the `cast` dataframe"
      ]
    },
    {
      "cell_type": "code",
      "execution_count": null,
      "metadata": {
        "id": "ylGOcgjcArvH"
      },
      "outputs": [],
      "source": [
        "# .shape gives the total number of rows and columns\n",
        "# .len gives the total number of rows\n",
        "#Your code here"
      ]
    },
    {
      "cell_type": "markdown",
      "metadata": {
        "id": "rhiSkfcCAru-"
      },
      "source": [
        "### Null values\n",
        "\n",
        "Check the `cast` dataframe for null values using the `isnull()` method or the `info` method. Find out which column has null values and how many."
      ]
    },
    {
      "cell_type": "code",
      "execution_count": null,
      "metadata": {
        "id": "wf8V8dmbArvA"
      },
      "outputs": [],
      "source": [
        "#Print out the column which has null values and the also print the number of null values in the column\n",
        "#Your code here\n"
      ]
    },
    {
      "cell_type": "markdown",
      "source": [
        "We have 1 column which has a lot of null values. Drop that column using the `drop` method."
      ],
      "metadata": {
        "id": "mt4fOafoSoSu"
      }
    },
    {
      "cell_type": "code",
      "source": [
        "#Your code here"
      ],
      "metadata": {
        "id": "4xCSP2dwSo5W"
      },
      "execution_count": null,
      "outputs": []
    },
    {
      "cell_type": "markdown",
      "metadata": {
        "id": "Z_mJDFrrArvC"
      },
      "source": [
        "### Summary statistics\n",
        "- To quickly obtain summary statistics on numerical values use the `describe` method.\n",
        "- You will get a warning if there are missing values."
      ]
    },
    {
      "cell_type": "code",
      "execution_count": null,
      "metadata": {
        "id": "x7rhnfoqArvE"
      },
      "outputs": [],
      "source": [
        "#Your code here"
      ]
    },
    {
      "cell_type": "markdown",
      "metadata": {
        "id": "Oraj7HguArvL"
      },
      "source": [
        "## 3. Indexing/Slicing Rows of DataFrames\n",
        "- Simple ways of selecting all rows and columns (`df[:]`)\n",
        "- Rows can be accessed via a key or a integer corresponding to the row number. \n",
        "- Omitting a value generally means *all values* before or after an item.\n",
        "- When we retrieve a single or mulitiple rows, the result is a Dataframe.\n",
        "- Several ways, either directly, with `iloc`, or with `loc`. (See Examples).\n",
        "- Read more [here](http://pandas.pydata.org/pandas-docs/stable/indexing.html)\n",
        "\n"
      ]
    },
    {
      "cell_type": "markdown",
      "metadata": {
        "id": "_MidaQ8mArvM"
      },
      "source": [
        "### Selecting Rows\n",
        "- Similarly, we also might want to select out rows, and we can utilize the same syntax.\n",
        "- [iloc](https://pandas.pydata.org/pandas-docs/stable/generated/pandas.DataFrame.iloc.html)<br>\n",
        "\n",
        "Try to select every alternate row in the cast dataframe and print it out."
      ]
    },
    {
      "cell_type": "code",
      "execution_count": null,
      "metadata": {
        "id": "5wsOKa4wArvN"
      },
      "outputs": [],
      "source": [
        "#Your code here"
      ]
    },
    {
      "cell_type": "markdown",
      "metadata": {
        "id": "-VXbXVGXArvN"
      },
      "source": [
        "### Selecting a particular column\n",
        "- We can filter a particular row by indexing it by name as `df['column_name']\n",
        "- If the column name is in lower case without spaces, we can call it as `df.column_name`<br>\n",
        "\n",
        "Select `title` column from the cast dataframe"
      ]
    },
    {
      "cell_type": "code",
      "execution_count": null,
      "metadata": {
        "id": "N84iqniPArvO"
      },
      "outputs": [],
      "source": [
        "#Your code here"
      ]
    },
    {
      "cell_type": "markdown",
      "metadata": {
        "id": "1VueGRu4ArvT"
      },
      "source": [
        "### Intro to Filters (Logical indexing)\n",
        "- Filters are the selection of rows based on criteria.\n",
        "- We can select based on specific criteria.\n",
        "- These criteria can be connected together.\n",
        "- Most of the time we won't specfically assign selection critia to a list. <br>\n",
        "\n",
        "Try to create a filter for getting all the films released after 2000 from the titles dataframe."
      ]
    },
    {
      "cell_type": "code",
      "execution_count": null,
      "metadata": {
        "id": "wS7xTkgcArvT"
      },
      "outputs": [],
      "source": [
        "# At the foundation of the filter is a boolean array based on some type of condition. "
      ]
    },
    {
      "cell_type": "markdown",
      "metadata": {
        "id": "8ny8b3lNArva"
      },
      "source": [
        "### Pandas indexing\n",
        "- We can drop the default numerical index by casting one of the columns as an index using `set_index()`.\n",
        "- We can then use `sort_index()` method which allows quick lookups of data.<br>\n",
        "\n",
        "Try to set `title` column as the index of the cast dataframe and then try to access the film 'The Karate Kid'. (If you want to know the advantage of using index to search, try to time this method and filter using comparison of the `title` column. You can use `%%time` to find the runtime of a Jupyter cell)"
      ]
    },
    {
      "cell_type": "code",
      "execution_count": null,
      "metadata": {
        "id": "A6MmJfSmArvb"
      },
      "outputs": [],
      "source": [
        "%%time\n",
        "#Try to use comparison operator to find the Karate Kid row\n",
        "#Your code here"
      ]
    },
    {
      "cell_type": "code",
      "execution_count": null,
      "metadata": {
        "id": "H5TnpfCxArvb"
      },
      "outputs": [],
      "source": [
        "# Setting the index to movie titles and sorting it \n"
      ]
    },
    {
      "cell_type": "code",
      "execution_count": null,
      "metadata": {
        "id": "t5Vu428VArvc"
      },
      "outputs": [],
      "source": [
        "%%time\n",
        "# Comparing its speed to the operation above "
      ]
    },
    {
      "cell_type": "markdown",
      "source": [
        "## 4. QUIZ TIME\n",
        "Now based on the the above datasets try to find the answers for the following datasets.<br>\n",
        "Use the titles dataframe to answer the questions below."
      ],
      "metadata": {
        "id": "lRkHw2FGF9NH"
      }
    },
    {
      "cell_type": "markdown",
      "source": [
        "1. How many movies are listed in the titles dataframe?"
      ],
      "metadata": {
        "id": "G2kcYBTYLcww"
      }
    },
    {
      "cell_type": "code",
      "source": [
        "#Your code here"
      ],
      "metadata": {
        "id": "xriXZOL9LpZs"
      },
      "execution_count": null,
      "outputs": []
    },
    {
      "cell_type": "markdown",
      "source": [
        "2. What is the second oldest film (by year of release) listed in the titles dataframe?"
      ],
      "metadata": {
        "id": "gS2aJXttLpBu"
      }
    },
    {
      "cell_type": "code",
      "source": [
        "#Your code here"
      ],
      "metadata": {
        "id": "hvephoHBL1Fr"
      },
      "execution_count": null,
      "outputs": []
    },
    {
      "cell_type": "markdown",
      "source": [
        "3. How many movies were made from 1992 through 2012 as per titles dataframe?"
      ],
      "metadata": {
        "id": "QsNp08LPL02U"
      }
    },
    {
      "cell_type": "code",
      "source": [
        "#Your code here"
      ],
      "metadata": {
        "id": "g_z1eqheMDxs"
      },
      "execution_count": null,
      "outputs": []
    },
    {
      "cell_type": "markdown",
      "source": [
        "4. The number of movies in the decade of 2000 as per titles dataframe is?"
      ],
      "metadata": {
        "id": "eUdeC9lsMFgM"
      }
    },
    {
      "cell_type": "code",
      "source": [
        "#Your code here"
      ],
      "metadata": {
        "id": "Q-0d_6IPMFNV"
      },
      "execution_count": null,
      "outputs": []
    },
    {
      "cell_type": "markdown",
      "source": [
        "Next, using the cast dataframe , answer the following questions:"
      ],
      "metadata": {
        "id": "rmECYxsRMvKn"
      }
    },
    {
      "cell_type": "markdown",
      "source": [
        "5. How many different people have played a role called **Extra**? (Use the character column in the cast dataframe)"
      ],
      "metadata": {
        "id": "15GyNKW0M_lD"
      }
    },
    {
      "cell_type": "code",
      "source": [
        "#Your code here"
      ],
      "metadata": {
        "id": "V-AeJyfKM_aj"
      },
      "execution_count": null,
      "outputs": []
    },
    {
      "cell_type": "markdown",
      "source": [
        "6. How many roles were available for male actors in the decade of 2000s?"
      ],
      "metadata": {
        "id": "0B00ZSboM_RQ"
      }
    },
    {
      "cell_type": "code",
      "source": [
        "#Your code here"
      ],
      "metadata": {
        "id": "JpVi3PXhM_Gw"
      },
      "execution_count": null,
      "outputs": []
    },
    {
      "cell_type": "markdown",
      "source": [
        "7. How many roles were available for female actors in the decade of 2000s?"
      ],
      "metadata": {
        "id": "GNSTaaNhM-9P"
      }
    },
    {
      "cell_type": "code",
      "source": [
        "#Your code here"
      ],
      "metadata": {
        "id": "xXVSf0BgM-yl"
      },
      "execution_count": null,
      "outputs": []
    },
    {
      "cell_type": "markdown",
      "source": [
        "Optional question: In the titles dataframe, how many movies have the word 'Don' in them? (It's a filter based on a simple string method called `contains`. Try to read about it from the Pandas documentation)"
      ],
      "metadata": {
        "id": "o9GG4RQgM-jT"
      }
    },
    {
      "cell_type": "code",
      "source": [
        "#Your code here"
      ],
      "metadata": {
        "id": "pdPVl2UnM-Tf"
      },
      "execution_count": null,
      "outputs": []
    },
    {
      "cell_type": "markdown",
      "metadata": {
        "id": "VFrcJKy7Arvf"
      },
      "source": [
        "## 5. Merging Dataframes\n",
        "- Often you need to combine dataframes with similar information\n",
        "- We can use the `.merge()` method to do this.\n",
        "- Try to combine information from `cast.csv` and `release_dates.csv`.<br>\n",
        "\n",
        "First load the `release_dates.csv`."
      ]
    },
    {
      "cell_type": "code",
      "source": [
        "#Load the release_dates.csv\n",
        "#Your code here\n",
        "___ = pd.read_csv(base_url+'release_dates.csv') #Code for loading the release_dates.csv file"
      ],
      "metadata": {
        "id": "iZoEo9B4GvAR"
      },
      "execution_count": null,
      "outputs": []
    },
    {
      "cell_type": "markdown",
      "source": [
        "Merge the release date dataframe with the cast dataframe"
      ],
      "metadata": {
        "id": "Oc3iCd39G7EJ"
      }
    },
    {
      "cell_type": "code",
      "execution_count": null,
      "metadata": {
        "id": "7PYb6nI6Arvg"
      },
      "outputs": [],
      "source": [
        "# The merged dataframe gives us the release dates for each of the movies"
      ]
    },
    {
      "cell_type": "markdown",
      "source": [
        "Check the datatype of each column of the merged dataframe using the `dtypes` attribute"
      ],
      "metadata": {
        "id": "_fGh-a26HGat"
      }
    },
    {
      "cell_type": "code",
      "source": [
        "#Your code here"
      ],
      "metadata": {
        "id": "pnYXMI_kHG2Y"
      },
      "execution_count": null,
      "outputs": []
    },
    {
      "cell_type": "markdown",
      "source": [
        "Make the `date` column from the merged dataframe as a datetime column using pd.to_datetime() method on the the column. Once the column is in datetime format, you can do many datetime related analysis with it."
      ],
      "metadata": {
        "id": "FoErBS0ETY0S"
      }
    },
    {
      "cell_type": "code",
      "source": [
        "#Your code here"
      ],
      "metadata": {
        "id": "hLAq2rQPWngz"
      },
      "execution_count": null,
      "outputs": []
    },
    {
      "cell_type": "markdown",
      "source": [
        "Now, select all the movies by actor 'Leonardo DiCaprio'"
      ],
      "metadata": {
        "id": "hTkWK2GJWpk3"
      }
    },
    {
      "cell_type": "code",
      "execution_count": null,
      "metadata": {
        "id": "Tn2L1u8sArvg"
      },
      "outputs": [],
      "source": [
        "# Select all roles in movies by Leonardo DiCaprio"
      ]
    },
    {
      "cell_type": "markdown",
      "source": [
        "Now, we will try to plot the movies released by Leonardo DiCaprio along with the month they have released in. This is a little complicated since we need to get the month from the date column and then get the value counts. Hence, we are giving you the template code for it. Take a look and try to implement it for yourself.<br>\n",
        "```python\n",
        "import matplotlib.pyplot as plt\n",
        "fig,ax = plt.subplots(figsize=(10,5))\n",
        "merged_dataframe.date.dt.month.value_counts().sort_index().plot(kind='bar',ax=ax,color = '#B9D6D9',label='Month')\n",
        "ax.set_xticklabels(['Jan', 'Feb', 'Mar', 'Apr', 'May', 'Jun', 'Jul', 'Aug', 'Sep', 'Oct', 'Nov', 'Dec'],rotation=0)\n",
        "ax.legend(fontsize=12)\n",
        "ax.spines['right'].set_visible(False)\n",
        "ax.spines['top'].set_visible(False)\n",
        "ax.patch.set_facecolor('None')\n",
        "ax.set_ylabel('Count',fontsize=14,rotation=0,labelpad=20);\n",
        "```\n",
        "\n",
        "Just replace the `merged_dataframe` variable with your variable name.<br> From the plot, try to answer in which month has the most Leonardo DiCaprio films released."
      ],
      "metadata": {
        "id": "TKbb8IAiXX2I"
      }
    },
    {
      "cell_type": "code",
      "source": [
        "#Your code here"
      ],
      "metadata": {
        "id": "8Snlv7wrXXOU"
      },
      "execution_count": null,
      "outputs": []
    },
    {
      "cell_type": "code",
      "execution_count": null,
      "metadata": {
        "id": "W9_w9fhbArvk"
      },
      "outputs": [],
      "source": [
        "#Your code here"
      ]
    }
  ]
}