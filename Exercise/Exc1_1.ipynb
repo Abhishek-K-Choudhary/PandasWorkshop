{
  "nbformat": 4,
  "nbformat_minor": 0,
  "metadata": {
    "colab": {
      "name": "Exc1_1.ipynb",
      "provenance": []
    },
    "kernelspec": {
      "name": "python3",
      "display_name": "Python 3"
    },
    "language_info": {
      "name": "python"
    }
  },
  "cells": [
    {
      "cell_type": "markdown",
      "source": [
        "## Exercise 1: Know your Company Part 1\n",
        "Since you guys are interested in a DataScience career, pretty soon you will be looking at companies and applying for jobs. So with that in mind lets make a small dataframe regarding some of the biggest companies in the world. <br>\n",
        "\n",
        "\n"
      ],
      "metadata": {
        "id": "drcg0SApz449"
      }
    },
    {
      "cell_type": "markdown",
      "source": [
        "To start, we need to import the `pandas` library first. Do it in the same way as shown in the lecture."
      ],
      "metadata": {
        "id": "1Uvof-EI7gYi"
      }
    },
    {
      "cell_type": "code",
      "source": [
        "#Your code here"
      ],
      "metadata": {
        "id": "cN8QyE_O7dka"
      },
      "execution_count": 1,
      "outputs": []
    },
    {
      "cell_type": "markdown",
      "source": [
        "First make a Pandas Series from the dictionary of companies and the respective Chief Executive Officers (CEO)<br>\n",
        "Display the series"
      ],
      "metadata": {
        "id": "eFzkUHw3ApYd"
      }
    },
    {
      "cell_type": "code",
      "source": [
        "ceo_dict = {'Alphabet':'Sundar Pichai','Amazon':'Jeff Bezos','Adobe':'Shantanu Narayen','Alibaba':'Daniel Zhang',\n",
        "            'Flipkart':'Kalyan Krishnamurthy','IBM':'Arvind Krishna','Meta':'Mark Zuckerberg','Microsoft':'Satya Nadella',\n",
        "            'Oyo':'Ritesh Agarwal','Paytm':'Vijay Shekhar Sharma','TCS':'Rajesh Gopinath','Tesla':'Elon Musk','Twitter':'Parag Agrawal'}\n",
        "#Create a Pandas Series from the above dictionary and assign it to a variable\n",
        "#Display the Series\n",
        "#Your code here"
      ],
      "metadata": {
        "id": "slODxz5t20Ig"
      },
      "execution_count": 2,
      "outputs": []
    },
    {
      "cell_type": "markdown",
      "source": [
        "Find the CEO of Flipkart from the above Series and print the result."
      ],
      "metadata": {
        "id": "HtvVOmu87AOu"
      }
    },
    {
      "cell_type": "code",
      "source": [
        "#Access the CEO of Flipkart from the Series and print the result\n",
        "#Your code here\n"
      ],
      "metadata": {
        "id": "9kNrQ6wC2z9h"
      },
      "execution_count": 3,
      "outputs": []
    },
    {
      "cell_type": "markdown",
      "source": [
        "Print out all the CEO of companies starting from Flipkart and ending with Paytm. "
      ],
      "metadata": {
        "id": "QMrHMtAUBTqv"
      }
    },
    {
      "cell_type": "code",
      "source": [
        "#Display all the CEO of companies starting from Flipkart to Paytm (Hint: Remember the slicing selection shown in the lecture)\n",
        "#Your code here"
      ],
      "metadata": {
        "id": "NVmMn2GY_G3m"
      },
      "execution_count": 4,
      "outputs": []
    },
    {
      "cell_type": "markdown",
      "source": [
        "Next, make a Pandas Series from the dictionary of companies and the country it is based in.<br>\n",
        "Display the Series.\n"
      ],
      "metadata": {
        "id": "f-2sGECjBn9H"
      }
    },
    {
      "cell_type": "code",
      "source": [
        "country_dict = {'Alphabet':'US','Amazon':'US','Adobe':'US','Alibaba':'China',\n",
        "                'Flipkart':'India','IBM':'US','Meta':'US','Microsoft':'US',\n",
        "                'Oyo':'India','Paytm':'India','TCS':'India','Tesla':'US','Twitter':'US'}\n",
        "#Make the Series from the above dictionary\n",
        "#Your code here"
      ],
      "metadata": {
        "id": "8ins-AIP2z0p"
      },
      "execution_count": 5,
      "outputs": []
    },
    {
      "cell_type": "markdown",
      "source": [
        "Now, create a DataFrame from the two Series you have created.<br>\n",
        "Display the DataFrame."
      ],
      "metadata": {
        "id": "2bP1ROyhCALq"
      }
    },
    {
      "cell_type": "code",
      "source": [
        "#Create and display a DataFrame based on the 2 Series that you have made above\n",
        "#Your code here"
      ],
      "metadata": {
        "id": "yHR_bF6u2zpz"
      },
      "execution_count": 6,
      "outputs": []
    },
    {
      "cell_type": "markdown",
      "source": [
        "Print out the index of the above DataFrame\n"
      ],
      "metadata": {
        "id": "qnu2OCKJCMoE"
      }
    },
    {
      "cell_type": "code",
      "source": [
        "#Your code here"
      ],
      "metadata": {
        "id": "LDBMd8aj9xKD"
      },
      "execution_count": 7,
      "outputs": []
    },
    {
      "cell_type": "markdown",
      "source": [
        "Print out the columns in the DataFrame"
      ],
      "metadata": {
        "id": "ROLAjZDRCQuh"
      }
    },
    {
      "cell_type": "code",
      "source": [
        "#Your code here"
      ],
      "metadata": {
        "id": "nJkp4psL9xCf"
      },
      "execution_count": 8,
      "outputs": []
    },
    {
      "cell_type": "markdown",
      "source": [
        "Access the CEO column in the DataFrame"
      ],
      "metadata": {
        "id": "cOHKr32ICUeS"
      }
    },
    {
      "cell_type": "code",
      "source": [
        "#Your code here"
      ],
      "metadata": {
        "id": "QxGrF--59w-h"
      },
      "execution_count": 9,
      "outputs": []
    },
    {
      "cell_type": "markdown",
      "source": [
        "Try to access the Flipkart row in the dataframe like you accessed in the Series."
      ],
      "metadata": {
        "id": "Xr6JNoNQCaaa"
      }
    },
    {
      "cell_type": "code",
      "source": [
        "#Try to access the 'Flipkart' row in the dataframe in a similar way to how it was done in Series\n",
        "#Your code here"
      ],
      "metadata": {
        "id": "SFASHQ-U-Rmr"
      },
      "execution_count": 10,
      "outputs": []
    },
    {
      "cell_type": "markdown",
      "source": [
        "You must have got an error if you had directly tried to access the row using index 'Flipkart'. For accessing rows in DataFrames, we need special attributes which we are going to take a look at next."
      ],
      "metadata": {
        "id": "bVcvQ7vrCifm"
      }
    }
  ]
}