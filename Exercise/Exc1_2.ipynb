{
  "nbformat": 4,
  "nbformat_minor": 0,
  "metadata": {
    "colab": {
      "name": "Exc1_2.ipynb",
      "provenance": []
    },
    "kernelspec": {
      "name": "python3",
      "display_name": "Python 3"
    },
    "language_info": {
      "name": "python"
    }
  },
  "cells": [
    {
      "cell_type": "code",
      "execution_count": 1,
      "metadata": {
        "id": "kvZiinAS-77c"
      },
      "outputs": [],
      "source": [
        "#Library imports\n",
        "import pandas as pd\n",
        "import numpy as np"
      ]
    },
    {
      "cell_type": "markdown",
      "source": [
        "## Exercise 1: Know your company Part 2\n",
        "We will continue working with the dataset you have created in Part 1. First lets create the dataset again"
      ],
      "metadata": {
        "id": "VgahtRIeDJpg"
      }
    },
    {
      "cell_type": "code",
      "source": [
        "#Create the dataset in the same way as above\n",
        "#Your code here\n",
        "ceo_dict = {'Alphabet':'Sundar Pichai','Amazon':'Jeff Bezos','Adobe':'Shantanu Narayen','Alibaba':'Daniel Zhang',\n",
        "            'Flipkart':'Kalyan Krishnamurthy','IBM':'Arvind Krishna','Meta':'Mark Zuckerberg','Microsoft':'Satya Nadella',\n",
        "            'Oyo':'Ritesh Agarwal','Paytm':'Vijay Shekhar Sharma','TCS':'Rajesh Gopinath','Tesla':'Elon Musk','Twitter':'Parag Agrawal'}\n",
        "___ = pd.Series(___)\n",
        "country_dict = {'Alphabet':'US','Amazon':'US','Adobe':'US','Alibaba':'China',\n",
        "                'Flipkart':'India','IBM':'US','Meta':'US','Microsoft':'US',\n",
        "                'Oyo':'India','Paytm':'India','TCS':'India','Tesla':'US','Twitter':'US'}\n",
        "___ = pd.Series(___)\n",
        "___ = pd.DataFrame({'CEO':___, 'Country':___})"
      ],
      "metadata": {
        "id": "P4bslu20YNJ3"
      },
      "execution_count": null,
      "outputs": []
    },
    {
      "cell_type": "markdown",
      "source": [
        "Now try to access the 'Flipkart' row as shown in the lecture. "
      ],
      "metadata": {
        "id": "z4ePPtDrFn-_"
      }
    },
    {
      "cell_type": "code",
      "source": [
        "#Your code here"
      ],
      "metadata": {
        "id": "k0-Kn6IGD7lR"
      },
      "execution_count": 3,
      "outputs": []
    },
    {
      "cell_type": "markdown",
      "source": [
        "Next, try to access the 10th integral index in the DataFrame and also try to access all integral index greater than 10"
      ],
      "metadata": {
        "id": "LLz5unruF2e7"
      }
    },
    {
      "cell_type": "code",
      "source": [
        "#You need to access the 10th integral index from the DataFrame as well as\n",
        "#all the integral index greater than 10\n",
        "#Your code here"
      ],
      "metadata": {
        "id": "YhOnw8ZVD7W1"
      },
      "execution_count": 4,
      "outputs": []
    },
    {
      "cell_type": "markdown",
      "source": [
        "Now, print out all the values stored in the DataFrame with the values attribute and then access the 10th index in the list of values."
      ],
      "metadata": {
        "id": "2ImFdj7aF-H1"
      }
    },
    {
      "cell_type": "code",
      "source": [
        "#Print out the values in the DataFrame with the values attribute\n",
        "#Your code here"
      ],
      "metadata": {
        "id": "g7YGCZMmFGta"
      },
      "execution_count": 5,
      "outputs": []
    },
    {
      "cell_type": "code",
      "source": [
        "#Access the 10th value \n",
        "#Your code here"
      ],
      "metadata": {
        "id": "jsMFXEa_FRjX"
      },
      "execution_count": 6,
      "outputs": []
    },
    {
      "cell_type": "markdown",
      "source": [
        "Lets now try to use a mask to select a sub-dataframe which only has the companies which are located in India. ( Hint: Try to use a comparison operator in the Country column)"
      ],
      "metadata": {
        "id": "kEyOVXChGMwZ"
      }
    },
    {
      "cell_type": "code",
      "source": [
        "#Create a mask to make a sub-dataframe with all the companies located in country India\n",
        "#Your code here"
      ],
      "metadata": {
        "id": "pe55PiE7D7Sk"
      },
      "execution_count": 7,
      "outputs": []
    },
    {
      "cell_type": "markdown",
      "source": [
        "Next, let us try to select the companies in India based on index by creating multi-index.<br>\n",
        "First, reset index to have the company as a column."
      ],
      "metadata": {
        "id": "_-Z40Tec6MeY"
      }
    },
    {
      "cell_type": "code",
      "source": [
        "#Your code here"
      ],
      "metadata": {
        "id": "iINN0tSe6MDT"
      },
      "execution_count": 8,
      "outputs": []
    },
    {
      "cell_type": "markdown",
      "source": [
        "Next, rename the new index column to 'Company'. Use the `rename` attribute and pass the 'column' argument as a dictionary from the old name to new name."
      ],
      "metadata": {
        "id": "6fIxljpBZFvz"
      }
    },
    {
      "cell_type": "code",
      "source": [
        "#Your code here"
      ],
      "metadata": {
        "id": "ZHzw8NIkmNg8"
      },
      "execution_count": 9,
      "outputs": []
    },
    {
      "cell_type": "markdown",
      "source": [
        "Now, use the `set_index` attribute to make the `Country` and `Company` columns as index."
      ],
      "metadata": {
        "id": "b79AMQj8mMqY"
      }
    },
    {
      "cell_type": "code",
      "source": [
        "#Your code here"
      ],
      "metadata": {
        "id": "N2Xc-cK7mu3u"
      },
      "execution_count": 10,
      "outputs": []
    },
    {
      "cell_type": "markdown",
      "source": [
        "In this new DataFrame, use the `loc` keyword to choose all companies based in India."
      ],
      "metadata": {
        "id": "Zk6Vk16smwtc"
      }
    },
    {
      "cell_type": "code",
      "source": [
        "#Your code here"
      ],
      "metadata": {
        "id": "fTrWgUNon7Q5"
      },
      "execution_count": 11,
      "outputs": []
    },
    {
      "cell_type": "markdown",
      "source": [
        "Finally, lets try a little advanced indexing. Try to access the row 'Tesla' and print out the result. (PS. You may know him very well!! )"
      ],
      "metadata": {
        "id": "YTjVFkMeGfxu"
      }
    },
    {
      "cell_type": "code",
      "source": [
        "#Your code here"
      ],
      "metadata": {
        "id": "5gN8cewFD7Pv"
      },
      "execution_count": 12,
      "outputs": []
    }
  ]
}