{
  "nbformat": 4,
  "nbformat_minor": 0,
  "metadata": {
    "colab": {
      "name": "Exc 3_2.ipynb",
      "provenance": []
    },
    "kernelspec": {
      "name": "python3",
      "display_name": "Python 3"
    },
    "language_info": {
      "name": "python"
    }
  },
  "cells": [
    {
      "cell_type": "markdown",
      "source": [
        "## Exercise 3: Know Your Country Part 2\n",
        "Now, for our final exercise, we will use the above dataset along with a different dataset to calculate some more interesting metrics. Here you are given the dataset for the area (in sq. km) for the various States and UT's. We will use this dataset to calculate the density of the various states and UT's.\n"
      ],
      "metadata": {
        "id": "B-f7PCMPJZ3J"
      }
    },
    {
      "cell_type": "code",
      "execution_count": null,
      "metadata": {
        "id": "C4b8Vl8sDy2Z"
      },
      "outputs": [],
      "source": [
        "import pandas as pd\n",
        "import numpy as np"
      ]
    },
    {
      "cell_type": "markdown",
      "source": [
        "First create the original DataFrames for the States and UT's as you have done before."
      ],
      "metadata": {
        "id": "D4lV6k2YQS3A"
      }
    },
    {
      "cell_type": "code",
      "source": [
        "state = [{'Name':'Maharashtra','Type':'State','Population':112374333, 'Urban':50818259, 'Rural':61556074},\n",
        "       {'Name':'Uttar Pradesh','Type':'State','Population':199812341, 'Urban':44495063, 'Rural':155317278},\n",
        "       {'Name':'Tamil Nadu','Type':'State','Population':72147030, 'Urban':34917440, 'Rural':37229590},\n",
        "       {'Name':'Rajasthan','Type':'State','Population':68548437, 'Urban':17048085, 'Rural':51500352},\n",
        "       {'Name':'West Bengal','Type':'State','Population':91276115, 'Urban':29093002, 'Rural':62183113},\n",
        "       {'Name':'Karnataka','Type':'State','Population':61095297, 'Urban':30069335, 'Rural':31025962},\n",
        "       {'Name':'Gujarat','Type':'State','Population':60439692, 'Urban':25745083, 'Rural':34694609},\n",
        "       {'Name':'Madhya Pradesh','Type':'State','Population':72626809, 'Urban':20069405, 'Rural':52557404},\n",
        "       {'Name':'Himachal Pradesh','Type':'State','Population':6864602, 'Urban':688552, 'Rural':6176050},\n",
        "       {'Name':'Goa','Type':'State','Population':1458545, 'Urban':906814, 'Rural':551731}\n",
        "       ]\n",
        "#Your code here\n"
      ],
      "metadata": {
        "id": "_ZIOpTmyQTVm"
      },
      "execution_count": null,
      "outputs": []
    },
    {
      "cell_type": "code",
      "source": [
        "ut = [{'Name':'Delhi','Type':'UT','Population':16787941, 'Urban':16368899, 'Rural':419042},\n",
        "      {'Name':'Puducherry','Type':'UT','Population':1247953, 'Urban':852753, 'Rural':395200},\n",
        "      {'Name':'Chandigarh','Type':'UT','Population':1055450 , 'Urban':1026459, 'Rural':28991},\n",
        "      {'Name':'Andaman and Nicobar Islands','Type':'UT','Population':380581, 'Urban':143488, 'Rural':237093},\n",
        "      {'Name':'Lakshadweep','Type':'UT','Population':64473, 'Urban':50332, 'Rural':14141}]\n",
        "#Your code here\n"
      ],
      "metadata": {
        "id": "dq3xbUNlQTVo"
      },
      "execution_count": null,
      "outputs": []
    },
    {
      "cell_type": "markdown",
      "source": [
        "Concat the DataFrames to create a single dataframe as done earlier."
      ],
      "metadata": {
        "id": "NWaeh8J0QdNE"
      }
    },
    {
      "cell_type": "code",
      "source": [
        "#Your code here\n"
      ],
      "metadata": {
        "id": "CFzUqNeWQScC"
      },
      "execution_count": null,
      "outputs": []
    },
    {
      "cell_type": "markdown",
      "source": [
        "Now, make a new DataFrame from the Area data given below and display it."
      ],
      "metadata": {
        "id": "1ucmfaDhOXPO"
      }
    },
    {
      "cell_type": "code",
      "source": [
        "area = [{'State/UT':'Maharashtra','Area':307713},{'State/UT':'Uttar Pradesh','Area':240928},{'State/UT':'Tamil Nadu','Area':130051},\n",
        "        {'State/UT':'Rajasthan','Area':342239},{'State/UT':'West Bengal','Area':88752},{'State/UT':'Karnataka','Area':191791},\n",
        "        {'State/UT':'Gujarat','Area':196024},{'State/UT':'Madhya Pradesh','Area':308245},{'State/UT':'Himachal Pradesh','Area':55673},\n",
        "        {'State/UT':'Goa','Area':3702},{'State/UT':'Delhi','Area':1484},{'State/UT':'Puducherry','Area':479},\n",
        "        {'State/UT':'Chandigarh','Area':114},{'State/UT':'Andaman and Nicobar Islands','Area':8249},{'State/UT':'Lakshadweep','Area':32}]\n",
        "#Your code here"
      ],
      "metadata": {
        "id": "ZCFgeXybKGGV"
      },
      "execution_count": null,
      "outputs": []
    },
    {
      "cell_type": "markdown",
      "source": [
        "Now, merge the Area dataframe with the population dataframe of the States and UT's. Display the merged dataset. (Hint: Notice that the column names for the name of State/UT's are different in the 2 datasets. Use the `left_on` and `right_on` argument to merge the dataset correctly) "
      ],
      "metadata": {
        "id": "fC240O_hKIZ9"
      }
    },
    {
      "cell_type": "code",
      "source": [
        "#Your code here"
      ],
      "metadata": {
        "id": "q-hddok0KIPB"
      },
      "execution_count": null,
      "outputs": []
    },
    {
      "cell_type": "markdown",
      "source": [
        "Notice that there are two columns pertaining to the name of the State/UT's in the merged dataframe. Drop one of these columns using the `drop` method with the `column` argument."
      ],
      "metadata": {
        "id": "yP273WZmKID6"
      }
    },
    {
      "cell_type": "code",
      "source": [
        "#Your code here"
      ],
      "metadata": {
        "id": "SOw_PcAkKH3-"
      },
      "execution_count": null,
      "outputs": []
    },
    {
      "cell_type": "markdown",
      "source": [
        "Now, calculate the population density for each of the states and UT's using the Population and Area column."
      ],
      "metadata": {
        "id": "Jccni_1YKHvB"
      }
    },
    {
      "cell_type": "code",
      "source": [
        "#Your code here"
      ],
      "metadata": {
        "id": "GMLYhTdyKHjM"
      },
      "execution_count": null,
      "outputs": []
    },
    {
      "cell_type": "markdown",
      "source": [
        "Sort the dataset using the new density column and find the State/UT with the highest/lowest population density. Print out your results."
      ],
      "metadata": {
        "id": "mJm2j1vgKHWX"
      }
    },
    {
      "cell_type": "code",
      "source": [
        "#Your code here"
      ],
      "metadata": {
        "id": "sEoubHSpPtMl"
      },
      "execution_count": null,
      "outputs": []
    },
    {
      "cell_type": "markdown",
      "source": [
        "In this way, you can go through multiple datasets and find interesting statistics using Pandas. Try to do this on a dataset of your choice."
      ],
      "metadata": {
        "id": "aSMlxs1NPsxt"
      }
    }
  ]
}