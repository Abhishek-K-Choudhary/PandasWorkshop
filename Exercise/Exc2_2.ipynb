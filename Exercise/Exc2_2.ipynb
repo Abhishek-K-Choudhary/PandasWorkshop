{
  "nbformat": 4,
  "nbformat_minor": 0,
  "metadata": {
    "colab": {
      "name": "Exc2_2.ipynb",
      "provenance": []
    },
    "kernelspec": {
      "name": "python3",
      "display_name": "Python 3"
    },
    "language_info": {
      "name": "python"
    }
  },
  "cells": [
    {
      "cell_type": "markdown",
      "source": [
        "## Exercise 2 Know Your Cricketer Part 2\n",
        "In this part, let us look at the IPL statistics of the same players we saw above. "
      ],
      "metadata": {
        "id": "ScdYu1eAOsru"
      }
    },
    {
      "cell_type": "code",
      "execution_count": null,
      "metadata": {
        "id": "E5cJUS_WBsYL"
      },
      "outputs": [],
      "source": [
        "import pandas as pd\n",
        "import numpy as np"
      ]
    },
    {
      "cell_type": "markdown",
      "source": [
        "First, create a dataset for the IPL statistics using the data given below."
      ],
      "metadata": {
        "id": "foJNCRbBkhNO"
      }
    },
    {
      "cell_type": "code",
      "source": [
        "ipl_batsmen = [{'Name':'Sachin Tendulkar','IPL Inn':78,'IPL NO':9,'IPL Runs':2334},\n",
        "           {'Name':'Sourav Ganguly','IPL Inn':56,'IPL NO':3,'IPL Runs':1349},\n",
        "           {'Name':'Virat Kohli','IPL Inn':199,'IPL NO':31,'IPL Runs':6283},\n",
        "           {'Name':'Kapil Dev','IPL Inn':None,'IPL NO':None,'IPL Runs':None},\n",
        "           {'Name':'Yuvraj Singh','IPL Inn':126,'IPL NO':15,'IPL Runs':2750},\n",
        "           {'Name':'MS Dhoni','IPL Inn':193,'IPL NO':73,'IPL Runs':4746},\n",
        "           {'Name':'Rohit Sharma','IPL Inn':208,'IPL NO':28,'IPL Runs':4303}]\n",
        "#Create the dataframe from the above dictionary\n",
        "#Your code here"
      ],
      "metadata": {
        "id": "w1vFf8ApOrnJ"
      },
      "execution_count": null,
      "outputs": []
    },
    {
      "cell_type": "markdown",
      "source": [
        "Now, run the `info` and `describe` function on the dataset to check whether there are some null values or not and to see some basic statistics."
      ],
      "metadata": {
        "id": "TH_ZWNJiR12p"
      }
    },
    {
      "cell_type": "code",
      "source": [
        "#Your code here"
      ],
      "metadata": {
        "id": "-z34MBPOP5jP"
      },
      "execution_count": null,
      "outputs": []
    },
    {
      "cell_type": "markdown",
      "source": [
        "We see that there is a null value in the dataset. It is there because Kapil Dev doesn't have any data related to IPL tournaments. So we need to take care of that by either deleting the data or filling it with some values.<br>\n",
        "Fill the `Nan` values in the dataset with value 0 because any player who hasn't played in IPL will have 0 innings and runs in the format.\n"
      ],
      "metadata": {
        "id": "UWo5KYenSYh3"
      }
    },
    {
      "cell_type": "code",
      "source": [
        "#Your code here"
      ],
      "metadata": {
        "id": "MtVLZZesP5es"
      },
      "execution_count": null,
      "outputs": []
    },
    {
      "cell_type": "markdown",
      "source": [
        "Next calculate the batting average for the players again like we did earlier."
      ],
      "metadata": {
        "id": "lIahsv1mTBcX"
      }
    },
    {
      "cell_type": "code",
      "source": [
        "#Your code here"
      ],
      "metadata": {
        "id": "Slt7ZH73P5bX"
      },
      "execution_count": null,
      "outputs": []
    },
    {
      "cell_type": "markdown",
      "source": [
        "Notice that we agin get a `Nan` value for Kapil Dev in the batting average column.<br>\n",
        "Lets drop the row then so that we don't have any incorrect data. Drop the rows having any `Nan` values."
      ],
      "metadata": {
        "id": "XTySGcBaTKBh"
      }
    },
    {
      "cell_type": "code",
      "source": [
        "#Your code here"
      ],
      "metadata": {
        "id": "2DAIFf9jTdBK"
      },
      "execution_count": null,
      "outputs": []
    },
    {
      "cell_type": "markdown",
      "source": [
        "Find the player having the best batting average in the IPL format and print the result."
      ],
      "metadata": {
        "id": "Mer2o3XBTsol"
      }
    },
    {
      "cell_type": "code",
      "source": [
        "#Your code here"
      ],
      "metadata": {
        "id": "XmA9y_7aT4zW"
      },
      "execution_count": null,
      "outputs": []
    }
  ]
}