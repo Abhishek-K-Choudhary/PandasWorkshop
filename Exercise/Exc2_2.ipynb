{
  "nbformat": 4,
  "nbformat_minor": 0,
  "metadata": {
    "colab": {
      "name": "Updated Exc 2_2.ipynb",
      "provenance": []
    },
    "kernelspec": {
      "name": "python3",
      "display_name": "Python 3"
    },
    "language_info": {
      "name": "python"
    }
  },
  "cells": [
    {
      "cell_type": "markdown",
      "source": [
        "## Exercise 2 Part 2: Know your Country\n",
        "In this exercise, we will take a look at some of the population statistics related to our wonderful country, India. The data for some of the states and UT's on our country is given below. Using that we will do some comparisons between the different states/UT's based on some parameters."
      ],
      "metadata": {
        "id": "bHLcOg97-v_v"
      }
    },
    {
      "cell_type": "code",
      "execution_count": null,
      "metadata": {
        "id": "ZtA80IITDMyO"
      },
      "outputs": [],
      "source": [
        "import pandas as pd\n",
        "import numpy as np"
      ]
    },
    {
      "cell_type": "markdown",
      "source": [
        "First, make a DataFrame from the below dictionary for the population data of the states. Display the DataFrame."
      ],
      "metadata": {
        "id": "THWJe8muDiP0"
      }
    },
    {
      "cell_type": "code",
      "source": [
        "state = [{'Name':'Maharashtra','Type':'State','Population':112374333, 'Urban':50818259, 'Rural':61556074},\n",
        "       {'Name':'Uttar Pradesh','Type':'State','Population':199812341, 'Urban':44495063, 'Rural':155317278},\n",
        "       {'Name':'Tamil Nadu','Type':'State','Population':72147030, 'Urban':34917440, 'Rural':37229590},\n",
        "       {'Name':'Rajasthan','Type':'State','Population':68548437, 'Urban':17048085, 'Rural':51500352},\n",
        "       {'Name':'West Bengal','Type':'State','Population':91276115, 'Urban':29093002, 'Rural':62183113},\n",
        "       {'Name':'Karnataka','Type':'State','Population':61095297, 'Urban':30069335, 'Rural':31025962},\n",
        "       {'Name':'Gujarat','Type':'State','Population':60439692, 'Urban':25745083, 'Rural':34694609},\n",
        "       {'Name':'Madhya Pradesh','Type':'State','Population':72626809, 'Urban':20069405, 'Rural':52557404},\n",
        "       {'Name':'Himachal Pradesh','Type':'State','Population':6864602, 'Urban':688552, 'Rural':6176050},\n",
        "       {'Name':'Goa','Type':'State','Population':1458545, 'Urban':906814, 'Rural':551731}\n",
        "       ]\n",
        "#Your code here\n"
      ],
      "metadata": {
        "id": "7hPHMuZiAIP8"
      },
      "execution_count": null,
      "outputs": []
    },
    {
      "cell_type": "markdown",
      "source": [
        "Use the `describe` method to take a look at basic statistics of the dataset."
      ],
      "metadata": {
        "id": "_BJ6TptjEDq2"
      }
    },
    {
      "cell_type": "code",
      "source": [
        "#Your code here"
      ],
      "metadata": {
        "id": "Z-9b8PIXEN94"
      },
      "execution_count": null,
      "outputs": []
    },
    {
      "cell_type": "markdown",
      "source": [
        "Next, use the Urban and the Rural columns to calculate the percentage of Urban and Rural population in the states. Assign these values to new columns respectively."
      ],
      "metadata": {
        "id": "ferJ6IwvC4MO"
      }
    },
    {
      "cell_type": "code",
      "source": [
        "#Your code here"
      ],
      "metadata": {
        "id": "lMudYFm5C3ng"
      },
      "execution_count": null,
      "outputs": []
    },
    {
      "cell_type": "markdown",
      "source": [
        "Now make a DataFrame for the UT's given below in the dictionary. Display the DataFrame."
      ],
      "metadata": {
        "id": "HTWQTa3aEP9B"
      }
    },
    {
      "cell_type": "code",
      "source": [
        "ut = [{'Name':'Delhi','Type':'UT','Population':16787941, 'Urban':16368899, 'Rural':419042},\n",
        "      {'Name':'Puducherry','Type':'UT','Population':1247953, 'Urban':852753, 'Rural':395200},\n",
        "      {'Name':'Chandigarh','Type':'UT','Population':1055450 , 'Urban':1026459, 'Rural':28991},\n",
        "      {'Name':'Andaman and Nicobar Islands','Type':'UT','Population':380581, 'Urban':143488, 'Rural':237093},\n",
        "      {'Name':'Lakshadweep','Type':'UT','Population':64473, 'Urban':50332, 'Rural':14141}]\n",
        "#Your code here\n"
      ],
      "metadata": {
        "id": "8qDVJbzUAICc"
      },
      "execution_count": null,
      "outputs": []
    },
    {
      "cell_type": "markdown",
      "source": [
        "Use the `describe` method on this dataset as well"
      ],
      "metadata": {
        "id": "2zPD52apFtia"
      }
    },
    {
      "cell_type": "code",
      "source": [
        "#Your code here"
      ],
      "metadata": {
        "id": "QQGmwj1YAH-B"
      },
      "execution_count": null,
      "outputs": []
    },
    {
      "cell_type": "markdown",
      "source": [
        "Calculate the Urban and Rural percentage for the UT dataframe as well. Assign these values to new columns. Remember to use the same name for the columns as you have used in the state dataframe."
      ],
      "metadata": {
        "id": "ecQ2Kd_LFzfx"
      }
    },
    {
      "cell_type": "code",
      "source": [
        "#Your code here"
      ],
      "metadata": {
        "id": "SCpPi56lAH5w"
      },
      "execution_count": null,
      "outputs": []
    },
    {
      "cell_type": "markdown",
      "source": [
        "Now, let us take a look at both the state and UT data together. To do this, concatenate the UT dataframe to the State dataframe using `pd.concat`. Assign the new DataFrame to a variable and display the DataFrame."
      ],
      "metadata": {
        "id": "eVEZjw5GGLTO"
      }
    },
    {
      "cell_type": "code",
      "source": [
        "#Your code here"
      ],
      "metadata": {
        "id": "Ioa9RLIcAHwQ"
      },
      "execution_count": null,
      "outputs": []
    },
    {
      "cell_type": "markdown",
      "source": [
        "Notice how the concatenated DataFrame has repeating index. To overcome this issue, use the `ignore_index = True` argument and also the `verify_integrity=True` argument which will make sure that the new DataFrame has unique indexes. Display this DataFrame."
      ],
      "metadata": {
        "id": "ejOiC6u0HSKV"
      }
    },
    {
      "cell_type": "code",
      "source": [
        "#Your code here"
      ],
      "metadata": {
        "id": "zbYg1odaHR73"
      },
      "execution_count": null,
      "outputs": []
    },
    {
      "cell_type": "markdown",
      "source": [
        "Now, find the States/UT with the highest Urban Population Percentage and the highest Rural Population Percentage. Print your results."
      ],
      "metadata": {
        "id": "e1br2WZBIbuF"
      }
    },
    {
      "cell_type": "code",
      "source": [
        "#Your code here"
      ],
      "metadata": {
        "id": "DxQU4djmHRvK"
      },
      "execution_count": null,
      "outputs": []
    },
    {
      "cell_type": "markdown",
      "source": [
        "Now, make a new DataFrame from the Area data given below and display it."
      ],
      "metadata": {
        "id": "1ucmfaDhOXPO"
      }
    },
    {
      "cell_type": "code",
      "source": [
        "area = [{'State/UT':'Maharashtra','Area':307713},{'State/UT':'Uttar Pradesh','Area':240928},{'State/UT':'Tamil Nadu','Area':130051},\n",
        "        {'State/UT':'Rajasthan','Area':342239},{'State/UT':'West Bengal','Area':88752},{'State/UT':'Karnataka','Area':191791},\n",
        "        {'State/UT':'Gujarat','Area':196024},{'State/UT':'Madhya Pradesh','Area':308245},{'State/UT':'Himachal Pradesh','Area':55673},\n",
        "        {'State/UT':'Goa','Area':3702},{'State/UT':'Delhi','Area':1484},{'State/UT':'Puducherry','Area':479},\n",
        "        {'State/UT':'Chandigarh','Area':114},{'State/UT':'Andaman and Nicobar Islands','Area':8249},{'State/UT':'Lakshadweep','Area':32}]\n",
        "#Your code here"
      ],
      "metadata": {
        "id": "ZCFgeXybKGGV"
      },
      "execution_count": null,
      "outputs": []
    },
    {
      "cell_type": "markdown",
      "source": [
        "Now, merge the Area dataframe with the population dataframe of the States and UT's. Display the merged dataset. (Hint: Notice that the column names for the name of State/UT's are different in the 2 datasets. Use the `left_on` and `right_on` argument to merge the dataset correctly) "
      ],
      "metadata": {
        "id": "fC240O_hKIZ9"
      }
    },
    {
      "cell_type": "code",
      "source": [
        "#Your code here"
      ],
      "metadata": {
        "id": "q-hddok0KIPB"
      },
      "execution_count": null,
      "outputs": []
    },
    {
      "cell_type": "markdown",
      "source": [
        "Notice that there are two columns pertaining to the name of the State/UT's in the merged dataframe. Drop one of these columns using the `drop` method with the `column` argument."
      ],
      "metadata": {
        "id": "yP273WZmKID6"
      }
    },
    {
      "cell_type": "code",
      "source": [
        "#Your code here"
      ],
      "metadata": {
        "id": "SOw_PcAkKH3-"
      },
      "execution_count": null,
      "outputs": []
    },
    {
      "cell_type": "markdown",
      "source": [
        "Now, calculate the population density for each of the states and UT's using the Population and Area column."
      ],
      "metadata": {
        "id": "Jccni_1YKHvB"
      }
    },
    {
      "cell_type": "code",
      "source": [
        "#Your code here"
      ],
      "metadata": {
        "id": "GMLYhTdyKHjM"
      },
      "execution_count": null,
      "outputs": []
    },
    {
      "cell_type": "markdown",
      "source": [
        "Sort the dataset using the new density column and find the State/UT with the highest/lowest population density. Print out your results."
      ],
      "metadata": {
        "id": "mJm2j1vgKHWX"
      }
    },
    {
      "cell_type": "code",
      "source": [
        "#Your code here"
      ],
      "metadata": {
        "id": "sEoubHSpPtMl"
      },
      "execution_count": null,
      "outputs": []
    },
    {
      "cell_type": "markdown",
      "source": [
        "If you have finished the above steps, try to sort the DataFrame according to the Population column and find out the State/UT with the highest/lowest population."
      ],
      "metadata": {
        "id": "YGUV3gWNIr2z"
      }
    },
    {
      "cell_type": "code",
      "source": [
        "#Your code here"
      ],
      "metadata": {
        "id": "3tl5oz9UIshQ"
      },
      "execution_count": null,
      "outputs": []
    },
    {
      "cell_type": "markdown",
      "source": [
        "In this way, you can go through multiple datasets and find interesting statistics using Pandas. Try to do this on a dataset of your choice."
      ],
      "metadata": {
        "id": "aSMlxs1NPsxt"
      }
    }
  ]
}