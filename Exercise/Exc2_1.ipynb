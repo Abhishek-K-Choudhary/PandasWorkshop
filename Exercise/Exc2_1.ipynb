{
  "nbformat": 4,
  "nbformat_minor": 0,
  "metadata": {
    "colab": {
      "name": "Exc2_1.ipynb",
      "provenance": [],
      "collapsed_sections": []
    },
    "kernelspec": {
      "name": "python3",
      "display_name": "Python 3"
    },
    "language_info": {
      "name": "python"
    }
  },
  "cells": [
    {
      "cell_type": "markdown",
      "source": [
        "## Exercise 2 Know Your Cricketer Part 1\n",
        "Cricket!! We Indians bleed blue, don't we? So lets do some analysis on a cricket data. Specifically lets look at the data of some great Indian batsmen. We will see there statistics for Test and ODI matches of these batsmen and calculate some common metrics to compare them.<br>\n",
        "<br>\n",
        "First let's import the necessary libraries"
      ],
      "metadata": {
        "id": "UQSUb5xlK4v2"
      }
    },
    {
      "cell_type": "code",
      "execution_count": null,
      "metadata": {
        "id": "iEKSr4c2AHUU"
      },
      "outputs": [],
      "source": [
        "import pandas as pd\n",
        "import numpy as np"
      ]
    },
    {
      "cell_type": "markdown",
      "source": [
        "Next, create the DataFrame from the list of dictionaries given below.<br>\n",
        "Column Info:<br>\n",
        "Name: Name of Cricketer<br>\n",
        "ODI Inn: Total Innings in ODI matches<br>\n",
        "ODI NO: Innings **Not Out** in ODI matches<br>\n",
        "ODI Runs: Runs in ODI matches<br>\n",
        "Test Inn: Total Innings in Test matches<br>\n",
        "Test NO: Innings **Not Out** in Test matches<br>\n",
        "Test Runs: Total Runs in Test matches<br>"
      ],
      "metadata": {
        "id": "-xLTyL-FIqsE"
      }
    },
    {
      "cell_type": "code",
      "source": [
        "batsmen = [{'Name':'Sachin Tendulkar','ODI Inn':452,'ODI NO':41,'ODI Runs':18426,'Test Inn':329,'Test NO':33, 'Test Runs':15921},\n",
        "           {'Name':'Sourav Ganguly','ODI Inn':300,'ODI NO':21,'ODI Runs':11363,'Test Inn':188,'Test NO':17, 'Test Runs':7212},\n",
        "           {'Name':'Virat Kohli','ODI Inn':248,'ODI NO':39,'ODI Runs':12285,'Test Inn':168,'Test NO':10, 'Test Runs':7962},\n",
        "           {'Name':'Kapil Dev','ODI Inn':198,'ODI NO':39,'ODI Runs':3783,'Test Inn':184,'Test NO':15, 'Test Runs':5248},\n",
        "           {'Name':'Yuvraj Singh','ODI Inn':278,'ODI NO':40,'ODI Runs':8701,'Test Inn':62,'Test NO':6, 'Test Runs':1900},\n",
        "           {'Name':'MS Dhoni','ODI Inn':297,'ODI NO':84,'ODI Runs':10773,'Test Inn':144,'Test NO':16, 'Test Runs':4876},\n",
        "           {'Name':'Rohit Sharma','ODI Inn':220,'ODI NO':32,'ODI Runs':9205,'Test Inn':74,'Test NO':9, 'Test Runs':3047}]\n",
        "#Your code here"
      ],
      "metadata": {
        "id": "mZeq12CNrSzO"
      },
      "execution_count": null,
      "outputs": []
    },
    {
      "cell_type": "markdown",
      "source": [
        "Now, run the `info` and `describe` function on the dataset to check whether there are some null values or not and to see some basic statistics."
      ],
      "metadata": {
        "id": "5TW3mlxqTjt9"
      }
    },
    {
      "cell_type": "code",
      "source": [
        "#Your code here"
      ],
      "metadata": {
        "id": "tkVGj7YOTkoL"
      },
      "execution_count": null,
      "outputs": []
    },
    {
      "cell_type": "markdown",
      "source": [
        "Next, we will calulate the batting average for these cricketers for Test and ODI matches.<br> Batting average has the following formula:<br>\n",
        "\\begin{align}\n",
        "Batting\\ Average = \\frac{Total\\ Runs\\ Scored}{No.\\ of\\ Innings\\ Out}\n",
        "\\end{align}\n",
        "where\n",
        "\\begin{align}\n",
        "No.\\ of\\ Innings\\ Out = Total\\ Innings - Innings\\ Not\\ Out\n",
        "\\end{align}\n",
        "<br>\n",
        "Using the above formula calculate the Innings Out from the Total Innings and the Innings Not Out and assign it to new column in the dataframe. Do this for both ODI matches and Test matches."
      ],
      "metadata": {
        "id": "WTb5Gr9eI2aF"
      }
    },
    {
      "cell_type": "code",
      "source": [
        "#Your code here"
      ],
      "metadata": {
        "id": "o64qcHMHKXt8"
      },
      "execution_count": null,
      "outputs": []
    },
    {
      "cell_type": "markdown",
      "source": [
        "Now, calculate the batting average for the cricketers using the formula for batting average and assign it to a new column. Do this for both Test and ODI matches.\n"
      ],
      "metadata": {
        "id": "o4y0at3tM2O2"
      }
    },
    {
      "cell_type": "code",
      "source": [
        "#Your code here"
      ],
      "metadata": {
        "id": "O-E42xYCKNh0"
      },
      "execution_count": null,
      "outputs": []
    },
    {
      "cell_type": "markdown",
      "source": [
        "Finally you have the batting averages of each player. Now find the player with the highest Test average and the highest ODI average and print the result."
      ],
      "metadata": {
        "id": "so60E3RdNCjr"
      }
    },
    {
      "cell_type": "code",
      "source": [
        "#Your code here"
      ],
      "metadata": {
        "id": "tX4pV7-zEJlC"
      },
      "execution_count": null,
      "outputs": []
    },
    {
      "cell_type": "markdown",
      "source": [
        "Next we create a column called Total Runs, which will be the sum of ODI Runs and Test Runs."
      ],
      "metadata": {
        "id": "csqQTvdGO-Fe"
      }
    },
    {
      "cell_type": "code",
      "source": [
        "#Your code here"
      ],
      "metadata": {
        "id": "edTtMEpEO9zh"
      },
      "execution_count": null,
      "outputs": []
    },
    {
      "cell_type": "markdown",
      "source": [
        "Also, find the total Innings Out from the new columns created by you."
      ],
      "metadata": {
        "id": "f_i_v0vTv19a"
      }
    },
    {
      "cell_type": "code",
      "source": [
        "#Your code here"
      ],
      "metadata": {
        "id": "UjGEzDXpv1Ws"
      },
      "execution_count": null,
      "outputs": []
    },
    {
      "cell_type": "markdown",
      "source": [
        "Finally, calculate the total batting average across Test and ODI by dividing the Total Runs and Total Out Innings"
      ],
      "metadata": {
        "id": "q0XoDml-1CSv"
      }
    },
    {
      "cell_type": "code",
      "source": [
        "#Your code here"
      ],
      "metadata": {
        "id": "9_NXWRBB1CCb"
      },
      "execution_count": null,
      "outputs": []
    },
    {
      "cell_type": "markdown",
      "source": [
        "Also try and sort values of the dataframe using the `sort_values` attribute of the dataframe. It needs a `'by'` argument which is the name of the column with which you want to sort.<br>\n",
        "Sort the dataframe using the new total batting average column you have created. Who is the player who has the best total batting average?"
      ],
      "metadata": {
        "id": "DZLhLnJbN7_c"
      }
    },
    {
      "cell_type": "code",
      "source": [
        "#Your code here"
      ],
      "metadata": {
        "id": "TQNZAcNMCMgY"
      },
      "execution_count": null,
      "outputs": []
    }
  ]
}