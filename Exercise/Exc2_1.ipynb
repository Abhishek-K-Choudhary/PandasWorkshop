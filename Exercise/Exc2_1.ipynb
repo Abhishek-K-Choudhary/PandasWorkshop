{
  "nbformat": 4,
  "nbformat_minor": 0,
  "metadata": {
    "colab": {
      "name": "Exc2_1.ipynb",
      "provenance": [],
      "collapsed_sections": []
    },
    "kernelspec": {
      "name": "python3",
      "display_name": "Python 3"
    },
    "language_info": {
      "name": "python"
    }
  },
  "cells": [
    {
      "cell_type": "markdown",
      "source": [
        "## Exercise 2 Part 1: Know Your Cricketer \n",
        "Cricket!! We Indians bleed blue, don't we? So lets do some analysis on a cricket data. Specifically lets look at the data of some great Indian batsmen. We will see there statistics for IPL and ODI matches of these \n",
        "batsmen and calculate some common metrics to compare them.<br>\n",
        "<br>\n",
        "First let's import the necessary libraries"
      ],
      "metadata": {
        "id": "UQSUb5xlK4v2"
      }
    },
    {
      "cell_type": "code",
      "execution_count": null,
      "metadata": {
        "id": "iEKSr4c2AHUU"
      },
      "outputs": [],
      "source": [
        "import pandas as pd\n",
        "import numpy as np"
      ]
    },
    {
      "cell_type": "markdown",
      "source": [
        "Next, create the DataFrame from the list of dictionaries given below.<br>\n",
        "Column Info:<br>\n",
        "Name: Name of Cricketer<br>\n",
        "ODI Inn: Total Innings in ODI matches<br>\n",
        "ODI NO: Innings **Not Out** in ODI matches<br>\n",
        "ODI Runs: Runs in ODI matches<br>\n",
        "IPL Inn: Total Innings in IPL matches<br>\n",
        "IPL NO: Innings **Not Out** in IPL matches<br>\n",
        "IPL Runs: Total Runs in IPL matches<br>"
      ],
      "metadata": {
        "id": "-xLTyL-FIqsE"
      }
    },
    {
      "cell_type": "code",
      "source": [
        "batsmen = [{'Name':'Sachin Tendulkar','ODI Inn':452,'ODI NO':41,'ODI Runs':18426,'IPL Inn':78,'IPL NO':9,'IPL Runs':2334},\n",
        "           {'Name':'Sourav Ganguly','ODI Inn':300,'ODI NO':21,'ODI Runs':11363,'IPL Inn':56,'IPL NO':3,'IPL Runs':1349},\n",
        "           {'Name':'Virat Kohli','ODI Inn':248,'ODI NO':39,'ODI Runs':12285,'IPL Inn':199,'IPL NO':31,'IPL Runs':6283},\n",
        "           {'Name':'Kapil Dev','ODI Inn':198,'ODI NO':39,'ODI Runs':3783,'IPL Inn':None,'IPL NO':None,'IPL Runs':None},\n",
        "           {'Name':'Yuvraj Singh','ODI Inn':278,'ODI NO':40,'ODI Runs':8701,'IPL Inn':126,'IPL NO':15,'IPL Runs':2750},\n",
        "           {'Name':'MS Dhoni','ODI Inn':297,'ODI NO':84,'ODI Runs':10773,'IPL Inn':193,'IPL NO':73,'IPL Runs':4746},\n",
        "           {'Name':'Rohit Sharma','ODI Inn':220,'ODI NO':32,'ODI Runs':9205,'IPL Inn':208,'IPL NO':28,'IPL Runs':4303}]\n",
        "#Your code here"
      ],
      "metadata": {
        "id": "mZeq12CNrSzO"
      },
      "execution_count": null,
      "outputs": []
    },
    {
      "cell_type": "markdown",
      "source": [
        "Now, run the `info` and `describe` function on the dataset to check whether there are some null values or not and to see some basic statistics."
      ],
      "metadata": {
        "id": "5TW3mlxqTjt9"
      }
    },
    {
      "cell_type": "code",
      "source": [
        "#Your code here"
      ],
      "metadata": {
        "id": "tkVGj7YOTkoL"
      },
      "execution_count": null,
      "outputs": []
    },
    {
      "cell_type": "markdown",
      "source": [
        "We see that there is a null value in the dataset. It is there because Kapil Dev doesn't have any data related to IPL tournaments. So we need to take care of that by either deleting the data or filling it with some values.<br>\n",
        "Fill the `Nan` values in the dataset with value 0 because any player who hasn't played in IPL will have 0 innings and runs in the format.\n"
      ],
      "metadata": {
        "id": "UWo5KYenSYh3"
      }
    },
    {
      "cell_type": "code",
      "source": [
        "#Your code here"
      ],
      "metadata": {
        "id": "MtVLZZesP5es"
      },
      "execution_count": null,
      "outputs": []
    },
    {
      "cell_type": "markdown",
      "source": [
        "Next, we will calulate the batting average for these cricketers for IPL and ODI matches.<br> Batting average has the following formula:<br>\n",
        "\\begin{align}\n",
        "Batting\\ Average = \\frac{Total\\ Runs\\ Scored}{No.\\ of\\ Innings\\ Out}\n",
        "\\end{align}\n",
        "where\n",
        "\\begin{align}\n",
        "No.\\ of\\ Innings\\ Out = Total\\ Innings - Innings\\ Not\\ Out\n",
        "\\end{align}\n",
        "<br>\n",
        "Using the above formula calculate the Innings Out from the Total Innings and the Innings Not Out and assign it to new column in the dataframe. Do this for both ODI matches and IPL matches."
      ],
      "metadata": {
        "id": "WTb5Gr9eI2aF"
      }
    },
    {
      "cell_type": "code",
      "source": [
        "#Your code here"
      ],
      "metadata": {
        "id": "o64qcHMHKXt8"
      },
      "execution_count": null,
      "outputs": []
    },
    {
      "cell_type": "markdown",
      "source": [
        "Now, calculate the batting average for the cricketers using the formula for batting average and assign it to a new column. Do this for both IPL and ODI matches.\n"
      ],
      "metadata": {
        "id": "o4y0at3tM2O2"
      }
    },
    {
      "cell_type": "code",
      "source": [
        "#Your code here\n"
      ],
      "metadata": {
        "id": "O-E42xYCKNh0"
      },
      "execution_count": null,
      "outputs": []
    },
    {
      "cell_type": "markdown",
      "source": [
        "Notice that we agin get a `Nan` value for Kapil Dev in the batting average column.<br>\n",
        "Lets drop the row then so that we don't have any incorrect data. Drop the rows having any `Nan` values."
      ],
      "metadata": {
        "id": "XTySGcBaTKBh"
      }
    },
    {
      "cell_type": "code",
      "source": [
        "#Your code here\n"
      ],
      "metadata": {
        "id": "2DAIFf9jTdBK"
      },
      "execution_count": null,
      "outputs": []
    },
    {
      "cell_type": "markdown",
      "source": [
        "Finally you have the batting averages of each player. Now find the player with the highest IPL average and print the result."
      ],
      "metadata": {
        "id": "so60E3RdNCjr"
      }
    },
    {
      "cell_type": "code",
      "source": [
        "#Your code here"
      ],
      "metadata": {
        "id": "5OnZv1GIExmA"
      },
      "execution_count": null,
      "outputs": []
    },
    {
      "cell_type": "markdown",
      "source": [
        "Find the player with the highest ODI average and print the result too."
      ],
      "metadata": {
        "id": "SyJggzbfFYWM"
      }
    },
    {
      "cell_type": "code",
      "source": [
        "#Your code here"
      ],
      "metadata": {
        "id": "OwlPva3IFfNi"
      },
      "execution_count": null,
      "outputs": []
    },
    {
      "cell_type": "markdown",
      "source": [
        "## Do it yourself\n",
        "If you have finished the above code, try to repeat the above steps for the combined runs across ODI and IPL in the cells below."
      ],
      "metadata": {
        "id": "u86DewQfE2Rh"
      }
    },
    {
      "cell_type": "markdown",
      "source": [
        "Create a column called Total Runs, which will be the sum of ODI Runs and IPL Runs."
      ],
      "metadata": {
        "id": "csqQTvdGO-Fe"
      }
    },
    {
      "cell_type": "code",
      "source": [
        "#Your code here\n"
      ],
      "metadata": {
        "id": "edTtMEpEO9zh"
      },
      "execution_count": null,
      "outputs": []
    },
    {
      "cell_type": "markdown",
      "source": [
        "Find the total Innings Out from the new columns created by you."
      ],
      "metadata": {
        "id": "f_i_v0vTv19a"
      }
    },
    {
      "cell_type": "code",
      "source": [
        "#Your code here\n"
      ],
      "metadata": {
        "id": "UjGEzDXpv1Ws"
      },
      "execution_count": null,
      "outputs": []
    },
    {
      "cell_type": "markdown",
      "source": [
        "Finally, calculate the total batting average across IPL and ODI by dividing the Total Runs and Total Out Innings"
      ],
      "metadata": {
        "id": "q0XoDml-1CSv"
      }
    },
    {
      "cell_type": "code",
      "source": [
        "#Your code here\n"
      ],
      "metadata": {
        "id": "9_NXWRBB1CCb"
      },
      "execution_count": null,
      "outputs": []
    },
    {
      "cell_type": "markdown",
      "source": [
        "Find out who has the best total average from the column you created."
      ],
      "metadata": {
        "id": "mlH4K8P_A_fN"
      }
    },
    {
      "cell_type": "code",
      "source": [
        "#Your code here"
      ],
      "metadata": {
        "id": "d9UZS_y6A_Oi"
      },
      "execution_count": null,
      "outputs": []
    },
    {
      "cell_type": "markdown",
      "source": [
        "Also try and sort values of the dataframe using the `sort_values` attribute of the dataframe. It needs a `'by'` argument which is the name of the column with which you want to sort.<br>\n",
        "Sort the dataframe using the new total batting average column you have created. Who is the player who has the best total batting average?"
      ],
      "metadata": {
        "id": "DZLhLnJbN7_c"
      }
    },
    {
      "cell_type": "code",
      "source": [
        "#Your code here\n"
      ],
      "metadata": {
        "id": "TQNZAcNMCMgY"
      },
      "execution_count": null,
      "outputs": []
    }
  ]
}